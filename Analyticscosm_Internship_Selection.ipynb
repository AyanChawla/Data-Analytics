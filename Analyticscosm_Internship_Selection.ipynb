{
  "nbformat": 4,
  "nbformat_minor": 0,
  "metadata": {
    "colab": {
      "name": " Analyticscosm_Internship_Selection.ipynb",
      "provenance": []
    },
    "kernelspec": {
      "name": "python3",
      "display_name": "Python 3"
    }
  },
  "cells": [
    {
      "cell_type": "markdown",
      "metadata": {
        "id": "6vZAYGRjnsLR",
        "colab_type": "text"
      },
      "source": [
        "#Are Referring domains correlated to Social media shares?\n",
        "We are given a Dataset of 1475 rows and their are 10 Categories Finance, Medical, Food, Movies, Design, Photography, Education, Business, Photography, Gaming and Blogging."
      ]
    },
    {
      "cell_type": "code",
      "metadata": {
        "id": "qzJe9tJJwSqz",
        "colab_type": "code",
        "colab": {
          "base_uri": "https://localhost:8080/",
          "height": 650
        },
        "outputId": "d3ffafb5-2f00-4d0e-c392-45d7527445b2"
      },
      "source": [
        "import pandas as pd\n",
        "df=pd.read_csv(\"content4.csv\",encoding='utf-16',sep=\"\\t\")\n",
        "df.head()"
      ],
      "execution_count": 270,
      "outputs": [
        {
          "output_type": "execute_result",
          "data": {
            "text/html": [
              "<div>\n",
              "<style scoped>\n",
              "    .dataframe tbody tr th:only-of-type {\n",
              "        vertical-align: middle;\n",
              "    }\n",
              "\n",
              "    .dataframe tbody tr th {\n",
              "        vertical-align: top;\n",
              "    }\n",
              "\n",
              "    .dataframe thead th {\n",
              "        text-align: right;\n",
              "    }\n",
              "</style>\n",
              "<table border=\"1\" class=\"dataframe\">\n",
              "  <thead>\n",
              "    <tr style=\"text-align: right;\">\n",
              "      <th></th>\n",
              "      <th>#</th>\n",
              "      <th>Content Title</th>\n",
              "      <th>Content URL</th>\n",
              "      <th>Author</th>\n",
              "      <th>Domain Rating</th>\n",
              "      <th>Referring Domains</th>\n",
              "      <th>Traffic</th>\n",
              "      <th>Traffic Value</th>\n",
              "      <th>Twitter shares</th>\n",
              "      <th>Facebook shares</th>\n",
              "      <th>Pinterest shares</th>\n",
              "      <th>Date</th>\n",
              "      <th>Number of Words</th>\n",
              "      <th>HTTP code</th>\n",
              "      <th>Republished date</th>\n",
              "    </tr>\n",
              "  </thead>\n",
              "  <tbody>\n",
              "    <tr>\n",
              "      <th>0</th>\n",
              "      <td>1</td>\n",
              "      <td>Slack’s Epic Marketing Strategy and Stewart Bu...</td>\n",
              "      <td>https://medium.com/the-mission/slacks-epic-mar...</td>\n",
              "      <td>Ian Faison</td>\n",
              "      <td>93</td>\n",
              "      <td>34</td>\n",
              "      <td>8</td>\n",
              "      <td>364</td>\n",
              "      <td>6</td>\n",
              "      <td>18</td>\n",
              "      <td>2</td>\n",
              "      <td>11/22/2017 19:19</td>\n",
              "      <td>881</td>\n",
              "      <td>200</td>\n",
              "      <td>3/4/2018 7:42</td>\n",
              "    </tr>\n",
              "    <tr>\n",
              "      <th>1</th>\n",
              "      <td>2</td>\n",
              "      <td>Cisco HyperFlex HCI named a Leader in the new ...</td>\n",
              "      <td>https://blogs.cisco.com/datacenter/cisco-hyper...</td>\n",
              "      <td>Vijay Venugopal</td>\n",
              "      <td>91</td>\n",
              "      <td>12</td>\n",
              "      <td>7</td>\n",
              "      <td>327</td>\n",
              "      <td>2</td>\n",
              "      <td>87</td>\n",
              "      <td>0</td>\n",
              "      <td>12/11/2019 13:00</td>\n",
              "      <td>1378</td>\n",
              "      <td>NXDOMAIN</td>\n",
              "      <td>NaN</td>\n",
              "    </tr>\n",
              "    <tr>\n",
              "      <th>2</th>\n",
              "      <td>3</td>\n",
              "      <td>Roulette machines: the crack cocaine of gambling</td>\n",
              "      <td>https://www.theguardian.com/uk/2013/may/27/rou...</td>\n",
              "      <td>Amelia Gentleman</td>\n",
              "      <td>93</td>\n",
              "      <td>23</td>\n",
              "      <td>8</td>\n",
              "      <td>312</td>\n",
              "      <td>2</td>\n",
              "      <td>35</td>\n",
              "      <td>3</td>\n",
              "      <td>5/27/2013 6:00</td>\n",
              "      <td>3359</td>\n",
              "      <td>200</td>\n",
              "      <td>NaN</td>\n",
              "    </tr>\n",
              "    <tr>\n",
              "      <th>3</th>\n",
              "      <td>4</td>\n",
              "      <td>Have Private Clouds Finally Found Their Place ...</td>\n",
              "      <td>https://www.forbes.com/sites/jasonbloomberg/20...</td>\n",
              "      <td>Jason Bloomberg</td>\n",
              "      <td>93</td>\n",
              "      <td>27</td>\n",
              "      <td>7</td>\n",
              "      <td>265</td>\n",
              "      <td>44</td>\n",
              "      <td>50</td>\n",
              "      <td>1</td>\n",
              "      <td>2/2/2019 17:34</td>\n",
              "      <td>931</td>\n",
              "      <td>200</td>\n",
              "      <td>NaN</td>\n",
              "    </tr>\n",
              "    <tr>\n",
              "      <th>4</th>\n",
              "      <td>5</td>\n",
              "      <td>Signez la pétition</td>\n",
              "      <td>https://www.change.org/p/hillary-clinton-suppo...</td>\n",
              "      <td>NaN</td>\n",
              "      <td>91</td>\n",
              "      <td>0</td>\n",
              "      <td>7</td>\n",
              "      <td>265</td>\n",
              "      <td>0</td>\n",
              "      <td>13</td>\n",
              "      <td>0</td>\n",
              "      <td>10/28/2017 23:41</td>\n",
              "      <td>786</td>\n",
              "      <td>200</td>\n",
              "      <td>NaN</td>\n",
              "    </tr>\n",
              "  </tbody>\n",
              "</table>\n",
              "</div>"
            ],
            "text/plain": [
              "   #  ... Republished date\n",
              "0  1  ...    3/4/2018 7:42\n",
              "1  2  ...              NaN\n",
              "2  3  ...              NaN\n",
              "3  4  ...              NaN\n",
              "4  5  ...              NaN\n",
              "\n",
              "[5 rows x 15 columns]"
            ]
          },
          "metadata": {
            "tags": []
          },
          "execution_count": 270
        }
      ]
    },
    {
      "cell_type": "code",
      "metadata": {
        "id": "N3cmCI1aiya-",
        "colab_type": "code",
        "colab": {
          "base_uri": "https://localhost:8080/",
          "height": 35
        },
        "outputId": "01183894-e23d-48c2-abd6-ff259381da0d"
      },
      "source": [
        "df.shape"
      ],
      "execution_count": 271,
      "outputs": [
        {
          "output_type": "execute_result",
          "data": {
            "text/plain": [
              "(1475, 15)"
            ]
          },
          "metadata": {
            "tags": []
          },
          "execution_count": 271
        }
      ]
    },
    {
      "cell_type": "markdown",
      "metadata": {
        "id": "oh3Jji5XzLMK",
        "colab_type": "text"
      },
      "source": [
        "It is having 14 Columns 'Content Title', 'Content URL', 'Author', 'Domain Rating', 'Referring Domains', 'Traffic', 'Traffic Value', 'Twitter shares', 'Facebook shares', 'Pinterest shares', 'Date', 'Number of Words', 'HTTP code', 'Republished date'.\n",
        "We have to find **Corelation between Referring Domains and Total Shares**.\n",
        "It is containing 3 shares and we will add up all these to get a new column **Total Shares**."
      ]
    },
    {
      "cell_type": "code",
      "metadata": {
        "id": "Qkdxxx_ZwtUD",
        "colab_type": "code",
        "colab": {
          "base_uri": "https://localhost:8080/",
          "height": 35
        },
        "outputId": "57de5560-4dcb-4c26-fa8c-be4f95bd8c3e"
      },
      "source": [
        "type(df['Domain Rating'][0])\n",
        "type(df['Twitter shares'][0])# Checking the type of columns whether string or Int to perform addition operation."
      ],
      "execution_count": 272,
      "outputs": [
        {
          "output_type": "execute_result",
          "data": {
            "text/plain": [
              "numpy.int64"
            ]
          },
          "metadata": {
            "tags": []
          },
          "execution_count": 272
        }
      ]
    },
    {
      "cell_type": "code",
      "metadata": {
        "id": "pi-u_H-vy_FV",
        "colab_type": "code",
        "colab": {}
      },
      "source": [
        "df[\"Total Shares\"]=df['Twitter shares']+df['Pinterest shares']+df['Facebook shares']"
      ],
      "execution_count": 0,
      "outputs": []
    },
    {
      "cell_type": "markdown",
      "metadata": {
        "id": "zyPzExjN0GwL",
        "colab_type": "text"
      },
      "source": [
        "Let's make a plot of these columns and try to have a look."
      ]
    },
    {
      "cell_type": "code",
      "metadata": {
        "id": "sae8KArQzrxS",
        "colab_type": "code",
        "colab": {
          "base_uri": "https://localhost:8080/",
          "height": 283
        },
        "outputId": "c81dfe0b-5642-45a7-c614-6ebe2add61fe"
      },
      "source": [
        "import matplotlib.pyplot as plt\n",
        "plt.plot(df['Domain Rating'], df[\"Total Shares\"])"
      ],
      "execution_count": 274,
      "outputs": [
        {
          "output_type": "execute_result",
          "data": {
            "text/plain": [
              "[<matplotlib.lines.Line2D at 0x7f77009a1390>]"
            ]
          },
          "metadata": {
            "tags": []
          },
          "execution_count": 274
        },
        {
          "output_type": "display_data",
          "data": {
            "image/png": "[encoded data removed]",
            "text/plain": [
              "<Figure size 432x288 with 1 Axes>"
            ]
          },
          "metadata": {
            "tags": [],
            "needs_background": "light"
          }
        }
      ]
    },
    {
      "cell_type": "markdown",
      "metadata": {
        "id": "7XcUbRUM0TFc",
        "colab_type": "text"
      },
      "source": [
        "It doesn't give any idea. Let's try to look at the correlation of the whole dataset."
      ]
    },
    {
      "cell_type": "code",
      "metadata": {
        "id": "W8eIHHutztib",
        "colab_type": "code",
        "colab": {
          "base_uri": "https://localhost:8080/",
          "height": 35
        },
        "outputId": "9c42528e-cca5-4c1e-99a7-d1eaaa44a0e2"
      },
      "source": [
        "df['Referring Domains'].corr(df['Total Shares'],method ='pearson') "
      ],
      "execution_count": 275,
      "outputs": [
        {
          "output_type": "execute_result",
          "data": {
            "text/plain": [
              "0.08491290917725118"
            ]
          },
          "metadata": {
            "tags": []
          },
          "execution_count": 275
        }
      ]
    },
    {
      "cell_type": "markdown",
      "metadata": {
        "id": "SsGH9VU8161g",
        "colab_type": "text"
      },
      "source": [
        "It is showing a little Correaltion, but there can be more hidden patterns in this Data. \n",
        "Let's Find out\n",
        "\n",
        "To Do so, we have to categorize all the domains to their respective categories.\n",
        "\n",
        "We will use **K means** Clustering algorithm."
      ]
    },
    {
      "cell_type": "markdown",
      "metadata": {
        "id": "qQ-TCrf92sNu",
        "colab_type": "text"
      },
      "source": [
        "#Importing Libraries"
      ]
    },
    {
      "cell_type": "code",
      "metadata": {
        "id": "JuD9fsJD0tXO",
        "colab_type": "code",
        "colab": {}
      },
      "source": [
        "import numpy as np # linear algebra\n",
        "import pandas as pd # data processing, CSV file I/O (e.g. pd.read_csv)\n",
        "from sklearn.cluster import KMeans \n",
        "from sklearn.feature_extraction.text import TfidfVectorizer\n",
        "from sklearn.decomposition import PCA\n",
        "from sklearn.preprocessing import normalize\n",
        "from sklearn.metrics import pairwise_distances\n",
        "import nltk\n",
        "import string\n",
        "from nltk.tokenize import word_tokenize\n",
        "from sklearn.utils import shuffle"
      ],
      "execution_count": 0,
      "outputs": []
    },
    {
      "cell_type": "markdown",
      "metadata": {
        "id": "or0O7yu-2xk3",
        "colab_type": "text"
      },
      "source": [
        "To categorize we will take help of Content Title column\n",
        "\n",
        "Steps:\n",
        "1. First we will Apply Kmeans clustering to Content title column using tf_idf vectors into 10 clusters.\n",
        "2. We will get features of all the 10 clusters and make 10 individual lists containing words of same cluster.\n",
        "\n",
        "3. For each cluster we will check find the rows containg the words in those clusters and sepeartely store them.\n",
        "\n",
        "4. We will find the Corelation of each cluster and with its respective shares."
      ]
    },
    {
      "cell_type": "code",
      "metadata": {
        "id": "QVxrwOXe2qVc",
        "colab_type": "code",
        "colab": {}
      },
      "source": [
        "# Making Tf_IDF vectors\n",
        "data=df['Content Title']\n",
        "tf_idf_vectorizor = TfidfVectorizer(stop_words = 'english')\n",
        "tf_idf = tf_idf_vectorizor.fit_transform(data)\n"
      ],
      "execution_count": 0,
      "outputs": []
    },
    {
      "cell_type": "code",
      "metadata": {
        "id": "hgNveFbC3Bzh",
        "colab_type": "code",
        "colab": {
          "base_uri": "https://localhost:8080/",
          "height": 72
        },
        "outputId": "8a8464fc-c777-44b9-c3bf-84414428d5a0"
      },
      "source": [
        "# Clustering\n",
        "true_k = 10 # Our final number of categories\n",
        "model = KMeans(n_clusters=true_k, max_iter=1000)\n",
        "model.fit(tf_idf)"
      ],
      "execution_count": 279,
      "outputs": [
        {
          "output_type": "execute_result",
          "data": {
            "text/plain": [
              "KMeans(algorithm='auto', copy_x=True, init='k-means++', max_iter=1000,\n",
              "       n_clusters=10, n_init=10, n_jobs=None, precompute_distances='auto',\n",
              "       random_state=None, tol=0.0001, verbose=0)"
            ]
          },
          "metadata": {
            "tags": []
          },
          "execution_count": 279
        }
      ]
    },
    {
      "cell_type": "code",
      "metadata": {
        "id": "G-J-qN5Y6oOa",
        "colab_type": "code",
        "colab": {
          "base_uri": "https://localhost:8080/",
          "height": 199
        },
        "outputId": "98ace518-e2e4-4595-9361-d91dd7b7fa36"
      },
      "source": [
        "# making 10 clusters each of different category and retrieving the words from Features\n",
        "order_centroids = model.cluster_centers_.argsort()[:, ::-1]\n",
        "terms = tf_idf_vectorizor.get_feature_names()\n",
        "clusters={\"0\":[],\"1\":[],\"2\":[],\"3\":[],\"4\":[],\"5\":[],\"6\":[],\"7\":[],\"8\":[],\"9\":[]}\n",
        "true_k=model.n_clusters\n",
        "for i in range(true_k):\n",
        "    print(\"Cluster %d:\" % i),\n",
        "    for ind in order_centroids[i, :]:\n",
        "        clusters[str(i)].append(terms[ind])\n",
        "    "
      ],
      "execution_count": 280,
      "outputs": [
        {
          "output_type": "stream",
          "text": [
            "Cluster 0:\n",
            "Cluster 1:\n",
            "Cluster 2:\n",
            "Cluster 3:\n",
            "Cluster 4:\n",
            "Cluster 5:\n",
            "Cluster 6:\n",
            "Cluster 7:\n",
            "Cluster 8:\n",
            "Cluster 9:\n"
          ],
          "name": "stdout"
        }
      ]
    },
    {
      "cell_type": "code",
      "metadata": {
        "id": "XNKf39uHGsyh",
        "colab_type": "code",
        "colab": {
          "base_uri": "https://localhost:8080/",
          "height": 74
        },
        "outputId": "dc5cfb96-05bd-46ec-cfdd-c2ae3accc6d8"
      },
      "source": [
        "print(clusters['0'])\n",
        "print(clusters['1'])"
      ],
      "execution_count": 281,
      "outputs": [
        {
          "output_type": "stream",
          "text": [
            "['video', 'things', 'home', '10', 'city', 'blog', 'man', 'war', 'story', 'power', 'time', '2019', 'beat', 'school', 'rock', 'film', 'wiki', 'day', 'weather', 'theory', 'does', 'mother', 'high', 'theme', 'guide', 'meet', 'project', 'life', 'radio', 'black', 'way', 'security', 'state', 'news', 'kids', 'real', 'live', 'therapy', 'secret', 'changes', 'god', 'office', 'people', 'difference', 'law', 'morning', 'art', 'single', 'ones', 'wind', 'wrong', 'red', 'coming', 'science', 'com', 'cloud', 'data', 'eye', 'study', 'long', '93', 'review', 'space', 'international', 'ep', 'night', 'microsoft', 'sun', 'today', 'web', 'journal', 'artists', 'theft', 'blood', 'set', 'beauty', 'years', 'game', 'song', '94', 'right', 'lost', 'northern', 'know', 'tax', 'mind', 'dead', 'apple', 'gallery', 'internet', 'authentication', 'sports', 'help', 'rose', 'tracks', 'field', 'album', 'code', 'matthew', 'wall', 'health', 'birthday', 'service', 'azure', 'blue', '2017', 'cost', 'perfect', 'says', 'coronavirus', 'stars', 'manager', 'family', 'design', 'creature', 'great', 'getting', 'youth', 'fight', 'services', 'rights', 'problem', 'car', '2018', 'say', 'dream', 'light', 'hell', 'united', 'line', 'la', 'southern', 'bull', 'business', 'program', 'center', 'share', 'cities', 'wolf', 'market', 'factor', 'edition', 'earth', 'harvard', 'stop', 'research', 'brothers', 'dark', 'company', 'key', 'various', 'management', 'states', 'theo', 'win', 'feel', 'doing', 'event', 'google', 'open', 'party', 'angel', 'job', 'et', 'times', 'tale', 'records', 'big', 'cut', 'volume', 'prison', 'collection', 'national', 'post', 'dj', 'rise', 'bar', 'box', 'house', 'teen', 'shirt', 'modern', 'technology', 'oracle', 'devil', 'bit', 'software', 'chicago', 'cosmic', 'need', 'friends', 'magic', '12', 'ghost', 'test', 'identity', 'kitchen', 'rewards', 'customer', 'past', 'crime', 'lee', 'advertising', 'ice', 'houston', 'solution', 'quotes', 'founder', 'men', 'band', 'update', 'turn', 'shadow', 'food', 'built', '25', 'pictures', 'low', 'community', 'insurance', 'add', 'body', 'view', 'support', 'european', 'bank', 'lego', 'using', 'readers', 'simon', 'faster', 'tea', 'act', 'sea', 'love', 'hour', 'living', 'cover', 'fm', 'tiny', 'play', 'door', 'mothers', 'father', 'inside', 'unit', 'series', 'language', 'robert', 'leather', 'page', 'restaurant', 'users', 'brew', 'like', 'england', 'washington', 'changing', 'issue', 'tickets', 'ways', 'west', 'driver', 'mike', 'works', 'circle', 'collections', 'start', 'wedding', 'important', 'importance', 'st', 'brady', 'mix', 'demo', 'ocean', 'chris', 'david', 'moon', 'week', 'vol', 'development', 'random', 'country', 'cheap', 'number', 'site', 'river', 'experience', 'challenge', 'cold', 'lake', 'tomb', 'tv', 'linux', 'tim', 'windows', 'theatre', 'education', 'exclusive', 'rainbow', 'undead', 'generation', 'come', 'india', 'size', 'version', 'cs', 'waiting', 'mission', 'spring', 'care', 'woman', 'children', 'buzz', 'yes', 'location', 'funeral', 'resources', 'price', 'solving', 'wild', 'robots', 'king', 'marketing', 'songs', 'team', 'save', 'standard', 'deep', 'install', 'insider', 'industries', 'color', 'digital', 'station', 'falling', 'basketball', '95', 'flash', 'baby', 'bear', 'shop', 'bad', 'london', 'core', 'icons', 'general', 'penguin', 'bottle', 'competition', 'closed', 'weight', 'super', 'oh', 'unity', 'want', 'cancer', 'smallest', 'clothes', 'opportunities', 'threat', 'talks', 'end', 'hotel', 'steele', 'americans', 'daily', 'actually', 'face', 'menu', 'month', 'drugs', 'little', 'make', 'phoenix', 'girls', 'madness', 'toys', 'wine', 'took', 'kind', 'money', '92', 'amazing', 'reveals', 'society6', 'ultimate', 'battle', 'church', 'points', '2020', 'file', 'garage', 'sky', 'attorney', 'really', 'crown', 'hand', 'lab', 'speed', 'create', 'white', 'stories', 'period', 'jstor', 'cracks', 'union', 'loss', 'peter', 'drug', 'solstice', 'website', '2015', '101', 'better', 'logic', 'divorce', '98', 'doors', 'corner', 'arrested', 'south', 'ride', 'christian', 'lead', 'beatles', 'strategy', 'role', 'attack', 'storm', 'making', 'ground', 'carl', 'eu', 'giant', 'date', 'method', 'nuclear', 'hurricane', 'gene', 'failure', 'old', '97', 'facebook', '50', 'florida', 'finally', 'brick', 'address', 'john', 'freeway', 'richard', 'anthology', 'press', 'hit', 'lens', 'letters', 'conduct', 'kevin', 'william', 'bonus', 'global', '15', 'wire', 'stanford', 'overview', 'ai', 'building', 'gym', 'june', 'possible', 'format', 'killed', 'toss', 'farm', 'newsradio', 'jack', 'hearts', 'complete', 'tom', 'provides', 'dish', 'moth', 'memories', 'falcon', 'correct', 'tour', 'vampire', 'bulge', 'apples', 'brood', 'cockroaches', 'northerner', 'sought', 'erase', 'normistan', 'mps', 'dermatologist', 'lester', 'zorth', 'prosthetics', 'fix', 'tokolosh', 'twitch', 'zoomo', 'survivalist', 'kablamus', 'thegame23', 'furrow', 'schlubs', 'gorch', 'etika', 'friar', 'naga', 'anoice', 'whipfather', 'raid', 'traumacore', 'chicken', 'greymuzzle', 'outside', 'chimera', 'awards', 'announces', 'mixtape', 'miss', 'paul', 'troll', '500', 'eat', 'download', 'auto', 'street', 'timeline', 'exchange', 'risks', 'jam', 'empire', 'gets', 'dance', 'journey', 'formula', 'celebration', 'concert', 'learn', 'amazon', 'boys', 'work', '99', 'supply', 'self', 'replace', 'land', 'hero', 'did', 'nasa', 'ancient', 'canada', 'bob', 'gen', 'days', 'official', 'gambling', 'fast', 'introducing', 'area', 'university', 'buy', 'cd', 'zoo', 'season', 'mail', 'available', 'good', 'trump', 'county', 'depression', 'dvd', 'welcome', 'store', 'creepy', 'sink', 'got', 'track', 'roll', 'australia', 'challenges', 'playlist', 'scam', 'master', 'meeting', 'let', '16', 'kiss', 'beats', 'bt', 'impact', 'benefits', 'massacre', 'sugar', 'rain', 'amy', 'pinterest', 'cowboy', 'group', 'join', 'death', 'tavern', 'columbia', 'ost', 'cross', 'younger', 'north', 'fitness', 'analyzing', 'experts', 'girl', 'rest', 'beneath', 'accounts', 'list', 'mexico', 'katgotthecream', 'road', 'bug', 'doom', 'report', 'alan', 'files', 'maria', 'army', 'synthetic', 'fate', 'hat', 'herb', 'creative', 'updated', 'episode', 'forest', 'western', 'user', 'feet', 'invasion', 'adventures', 'traditional', 'iphones', 'protect', 'type', 'police', 'needs', 'california', 'fighting', 'point', 'crack', 'going', 'aesthetic', 'virtual', 'civil', 'fees', 'snow', 'analysis', 'salesforce', 'gospel', 'anthem', 'social', 'machines', 'safe', 'android', 'tactics', 'answer', 'ethernet', 'players', 'gateway', 'storage', 'surprising', 'marketplace', 'room', 'medical', 'position', 'michigan', 'catherine', 'star', 'concrete', 'updates', 'treatment', 'saying', 'brown', 'trees', 'sr', 'launch', 'trial', 'smart', 'vr', 'dr', 'natural', 'venue', 'process', 'indiana', 'starting', 'performance', 'roulette', '17', 'mit', 'stones', 'risk', 'potential', 'luther', 'pure', 'guy', 'venture', 'interview', 'america', 'saga', 'sequence', 'blues', '104', 'genesis', 'christmas', 'think', 'return', 'feat', 'robot', 'limited', 'analytics', 'italian', 'ios', 'worst', 'fifth', 'midwest', 'shade', 'prove', 'fresh', 'haven', 'restaurants', 'captain', 'gore', 'row', 'happens', 'motherfucker', 'poster', 'trends', 'wage', 'airbnb', 'fair', 'estate', 'games', 'pool', 'temple', 'luxury', 'orchestra', 'lunch', 'corsair', 'rift', 'elvis', 'uk', 'martin', 'salary', 'panthers', 'annual', 'festival', 'seven', 'level', 'gonks', 'adobe', 'ordered', 'indymag', 'joe', 'government', 'floor', 'chemical', '1978', 'executive', 'nano3', 'eyes', '360', 'netflix', 'vfx', 'logo', 'workers', 'bb', 'literacy', 'templates', 'change', 'football', 'minute', 'ticket', 'definition', 'travel', 'voters', 'facing', 'annex', 'longer', 'oliver', 'messing', 'unconquerable', 'brand', 'normal', 'gold', 'engineer', 'run', 'statistics', 'chains', 'mean', 'powersolo', 'button', 'pros', 'noaa', 'anniversary', 'leadership', 'tell', 'spain', 'darna', 'economy', 'amateurs', 'solar', 'governor', 'sean', 'anti', 'supreme', 'department', 'happiness', 'tarragon', 'limits', 'image', 'shows', 'rocks', 'history', 'roses', 'evening', 'canus', 'quiet', 'major', 'bridge', 'chinese', 'companies', 'human', 'council', 'jordan', 'theater', 'architect', 'audio', 'mental', 'career', 'parliament', 'feather', 'blam', 'pears', 'worlds', 'rhombulus', 'beast', 'irelandball', 'outbreak', 'annorkoth', 'beholder', 'loneliest', 'slow', 'affect', 'sunday', 'odds', 'disqus', 'tree', 'heart', 'surat', 'fund', 'learning', 'deadline', 'wisdom', 'wollcrafts', 'jodu', 'magas', 'pediatrician', 'james', 'denver', 'hub', 'samsung', 'fellowship', 'mr', 'channel', '11', 'tip', 'sexual', 'question', 'trash', 'avenue', 'increasing', 'heavy', 'compliance', 'scott', 'creating', 'improving', 'culture', 'spiders', 'melbourne', 'cambridge', 'beggar', 'heel', 'legend', 'fest', 'clark', 'bleached', 'khruangbin', 'doll', 'forsythe', 'cheer', 'forbidden', 'bracers', 'nanda', 'overwhelmed', 'mystery', '1975', 'retirement', 'pittsburgh', 'adam', 'moments', 'texas', 'makeup', 'marriage', 'biggest', 'layout', 'cad', 'hits', 'fame', 'morrison', 'reach', 'tahoe', 'commission', 'poor', 'hall', 'budamunk', 'ridleys', 'ecorner', 'skill', 'witches', 'broussard', 'significance', 'hardside', 'brotherhood', 'hunter', 'deposit', 'omar', 'twilight', 'zachary', 'willie', 'capture', 'mapping', 'framelabel', 'kennedy', 'scientology', 'opus', 'crocker', 'scaredgirl', 'coin', 'ape', 'satanists', 'stone', 'laughing', 'zen', 'colombia', 'dilemma', 'virus', 'vlack', 'custom', 'lady', 'zone', '100', 'starts', 'punk', 'package', 'stack', 'families', 'control', 'landing', 'results', 'protection', 'ad', 'sale', 'multiple', 'dave', 'poll', 'seas', 'active', 'burroughs', 'homes', 'retail', 'tbtci', 'events', 'migration', 'disaster', 'plays', 'paradise', 'setting', 'irma', 'park', 'valley', 'caretaker', 'expenditure', 'matthews', 'trip', 'kayla', 'barnstorming', 'grey', 'counting', 'voorhees', 'stagenet', 'scythe', 'christine', 'grima', 'wilson', 'सम', 'ghostie', 'killigans', 'grandmother', 'monero', 'malfurion', 'woods', 'mayors', 'rat', 'elephant', 'deutsch', 'spreader', 'mardraum', 'youtuber', 'enslaved', 'saturn', 'gunther', 'rhett', 'effekt', 'hirsch', 'walls', 'amalthea', 'devops', 'income', 'challengers', 'iida', 'agathe', 'homelander', 'butler', 'ron', 'tales', 'rintarou', 'warhammer', 'hunted', 'supe', 'aether', 'thresh', 'ballast', 'cosmos', 'रक', 'bandy', 'clearing', 'quotations', 'handbook', 'sanger', 'handle', 'mythology', 'necrourgica', 'necrot', 'jason', 'menaphite', 'cornhusker', 'nage', 'isolation', 'bosse', 'ears', 'fitz', 'skins', 'primordial', 'viraha', 'slayers', 'enforced', 'persona', 'berserker', 'dethrone', 'freeglade', 'lasat', 'cuba', 'lancers', 'formulas', 'bliss', 'bernard', 'benji', 'shadows', 'shagged', 'dwarf', 'permutation', 'cusp', 'solver', 'legends', 'labyrinth', 'queens', 'pantheon', 'sovereign', 'porches', 'gang', 'damned', 'sequencing', 'kodak', 'powers', 'prairies', 'portland', 'pachinko', 'madame', 'kingdom', 'sarah', 'acid', 'presidential', 'themed', 'hunt', 'resolution', 'divi', 'fisher', 'wdas', 'special', 'local', 'queen', 'mojo', 'conversion', '107', 'vote', 'require', 'williams', 'downtown', 'women', 'connection', 'animal', 'relationships', 'beach', 'nashville', 'register', 'main', 'penn', 'registers', 'maybe', 'flag', 'tracking', 'legal', 'vehicle', 'wharton', 'switch', '105', 'wor', 'steps', 'getty', 'map', 'scripting', 'hopkins', 'abc', 'injured', 'webn', 'photoshelter', 'iheartradio', 'form', 'young', 'step', 'innovation', 'navigating', 'highlights', 'air', 'infamous', '96', 'portfolio', '75', 'powerhouse', 'pitch', 'wife', 'veterans', 'gbg', 'exorcist', 'american', 'taking', 'ebay', 'books', 'removing', 'asked', 'dies', 'camera', 'symbolism', 'molam', 'uw', 'dynamic', 'knix', 'latest', 'climate', 'april', 'consumer', 'edan', 'aid', 'fda', 'release', 'pablo', 'journalist', 'areas', 'markets', 'underscores', 'fagin', 'scrum', 'dragon', 'ready', 'vegas', 'speech', 'feon', 'parade', 'wanted', 'aviators', 'bare', 'ii', 'announce', 'burch', 'molly', 'professional', 'ideal', 'lié', 'cycling', '1200', 'nieman', 'present', 'metal', 'types', 'easa', 'tools', 'programs', 'card', 'soft', 'rainbowhead', 'improve', 'desert', '32', 'mitzvah', 'grinns', 'knives', 'coathangers', 'segal', 'doron', 'vip', 'ate', 'photographer', 'drums', 'proclamation', 'certification', 'growth', 'apollo', 'cast', 'oklahoma', 'ent', 'romulan', 'noobs', 'paysbass', 'nolan', 'spaven', 'poorest', 'jp13', 'class', 'mathematics', 'singing', 'knew', 'treat', 'expanded', 'jj', 'madrid', 'solutions', 'entries', 'delete', 'spg', 'galás', 'camo', 'diamanda', 'babe', 'seminar', 'stichiz', '1035', '570', '20', 'charlotte', 'lies', 'lyric', 'reader', 'hydrogen', 'peroxide', 'chanhays', 'easy', 'path', 'chef', 'finale', 'rush', 'century', '102', 'funded', 'lesser', 'chances', 'paperback', '1070', 'hiv', 'vs', 'discovery', 'bundle', 'jackson', 'wisconsin', 'palmer', 'amanda', 'nike', 'obsolete', 'здесь', 'wrath', 'mockups', 'albion', 'вот', 'fury', 'exhibit', 'wireframes', 'bride', 'muppets', 'archaic', 'responsibilities', 'moonlight', 'kindness', 'bellicose', 'poppycock', 'font', 'looking', 'access', 'enemy', 'foxy', 'terrorist', 'embrace', 'devils', 'pétition', 'vadim', 'groundbreaking', 'ishmael', 'bind', 'authenticator', 'signez', 'host', 'fantomenk', 'grocery', 'multiverse', 'covering', 'techno', 'muddies', 'vw', 'crashed', 'corrupt', '3d', 'halsall', 'oneness', 'rosetta', 'sower', 'clown', 'otherworld', 'cried', 'simplefixty', 'leah', 'metalstep', 'maron', 'jako', 'bot', 'training', 'ideas', 'sisters', 'bluest', 'coultrain', 'skanska', 'lakuta', 'mad', 'morse', 'seirom', 'swallowed', 'outhere', 'hammer', 'armor', 'lutea', 'decode', 'maya', 'massage', 'lifespan', 'liberation', 'philly', 'deficiency', 'tricia', 'translating', 'gnod', 'donegan', 'databases', '4everfreebrony', 'polar', '4lung', 'bhaktas', 'word', 'plagiarism', 'shipwrecks', 'curse', 'shallows', 'darpa', 'curry', 'somnambulist', 'urban', 'sóley', 'kimya', 'augustus', 'kernel', 'configure', 'yob', 'basement', 'imdb', 'ayla', 'reject', 'conway', 'graves', 'messengers', 'merkurius', 'dogfuckers', 'jersey', 'athletic', 'adrift', 'nereo', 'dawson', 'ask', 'nektar', 'grandmothers', 'kirtan', '1935', 'tab', 'searching', 'exploration', 'dreamer', 'syllables', 'mozilla', 'taylor', 'fish', 'changed', 'birds', 'die', 'soak', 'epa', 'waves', 'corn', 'powerpuff', 'struggle', 'corporate', '70413', 'faq', 'brunuhville', 'preferences', 'warehouse', 'embassy', 'popguns', 'switchfoot', 'letdown', 'ignite', 'task', 'edit', 'birth', 'far', 'dennis', 'switzerland', 'linus', 'shreds', 'eternal', 'ring', 'ministries', 'bounty', 'pyre', '1999', 'dinosaurs', 'patchwork', 'odd', 'sayzee', 'lae', 'jump', 'recycle', 'demashita', 'kvaen', 'kompendium', 'ellie', 'sys', 'kisses', 'discover', 'guerilla', 'laboratories', 'recycled', 'frieza', 'clasp', 'lowkey', 'outposts', 'wills', 'watch', 'africa', 'moore', '103', 'uses', 'donate', 'minds', 'programming', 'talk', 'different', 'exumer', 'khalifah', 'darkness', 'drones', 'godfather', 'ea', 'bpf', 'killing', 'lethe', 'indonesia', 'christianity', 'centre', 'moros', 'disregard', 'entertainment', 'garden', 'canton', 'civically', 'miracles', 'homestuck', 'lords', 'katamari', 'haruhi', 'cornmanthe3rd', 'bodies', 'os', 'megas', 'exiler', 'frail', 'permafrost', 'engaged', 'harpoonist', 'megatainment', 'clock', 'megistotherium', 'nesby', 'memes', 'lagoi', 'cheremisinov', 'plex', 'fisherman', 'forgotten', 'construct', 'bytecode', 'jw', 'murderer', 'ducktails', 'deviantart', 'phips', '死者89人', 'juracan', 'lock', 'log', 'crypt', 'healing', 'catchup', '負傷者51人に', 'acolytes', 'arusha', 'tg', 'spore', 'selftitled', 'sergey', 'sermon', 'public', 'automatic', 'swing', 'psychopaths', 'vibe', 'baghdad', 'wytheville', 'roar', 'xarlable', 'shot', 'sightings', 'zado', 'accord', 'approaching', 'unending', 'axe', 'tides', 'suzumiya', 'ufo', 'rebel', 'altarage', 'raven', 'usurper', 'sanchaya', 'wavering', 'rapp', 'abusing', 'athena', 'spaces', 'λόγος', 'thread', 'raging', 'メキシコのパイプライン爆発', 'wellspring', 'styzmask', 'voltage', 'matter', 'brandee', 'giving', 'autoplaying', 'spell', 'looping', 'phone', 'silk', 'crew', 'commons', 'offer', 'boy', 'vikings', 'seeking', 'michael', 'edu', 'raymond', 'homelessness', 'lecturer', 'mackeeper', 'server', 'wombat', 'beautiful', 'netherlands', 'movement', 'break', 'soundtrack', 'extending', 'shares', 'afl', 'aprilbeacon', 'pags', 'blank', 'snappy', 'inspirational', 'superchunk', 'eventhandler', 'eddsworld', 'em', 'designed', 'screensaver', 'crunchyroll', 'membership', 'chores', 'tripadvisor', 'skilled', 'positive', 'incredible', 'hulk', 'transfer', 'computer', 'campus', 'hail', 'aegis', 'ashes', 'spin', 'thou', 'serotonin', 'bronx', 'carlson', 'interconnect', 'antivirus', 'ryan', 'seacrest', 'foul', 'je021', 'scorpion', 'maggot', 'lack', 'payment', 'rax', 'elbow', 'londo', 'mollari', 'versioning', 'neue', 'bruno', 'instruction', '6502', 'rhythm', 'lundy', 'library', 'clintons', 'muynck', 'marjorie', 'tipping', 'happened', 'darc', 'holy', 'arc', 'inexpensive', 'eskapism', 'sidewall', 'mg', 'diaries', 'married', 'massachusetts', 'kawehi', 'lame', 'torus', 'lostboi', 'sabotagerecords', 'lighthouse', 'evidence', 'automates', 'account', 'phones', 'touts', 'railway', 'giphy', 'centroid', 'shuttleworth', 'integers', 'notation', 'shortage', 'postgis', 'gif', 'a1111', 'developers', 'wmms', 'clarke', 'photos', 'dank', 'gfc', 'predicting', 'kemet', 'omc', 'bw', 'broken', 'session', 'donovan', 'aoife', 'credentials', 'sticky', 'macro', 'wages', 'dates', 'twisting', 'san', 'papiercuts', 'letherette', 'lounge', 'tricks', 'francisco', 'dictionary', 'request', 'privacy', 'parasynthesis', 'issues', 'casual', 'sexists', 'butchers', 'bilinda', 'currency', 'perk', 'campaigner', 'generic', 'imperfect', 'winx', '50th', 'rockets', 'occupational', 'vhs', 'glitch', 'cure', 'elderly', 'helps', 'spot', 'lynn', 'seraphim', 'repurpose', 'conducting', 'surveys', 'themify', 'cardiacs', 'seaside', 'brass', 'isaiah', 'telephone', 'loud', 'builder', 'double', 'enabling', 'violation', 'adoption', 'automation', 'workflows', 'perspective', 'pheasant', 'pki', 'conor', 'kian', 'dreaming', 'oberst', 'ludvig', 'rockaways', 'eternity', 'everytime', 'theeternityrose', 'peaking', 'employees', 'jones', 'el', 'aloonaluna', 'hke', 'parkway', 'stuntin', 'freshmen', 'mufasa', 'gilded', 'incoming', 'sq777', 'banter', 'esoteric', 'uclabound2022', 'hegemony', 'podcasts', 'ghana', 'golden', 'knights', 'messenger', 'mutiny', 'nyc', 'mysterious', 'eden', 'encounter', 'minions', 'rude', 'bright', 'heat', 'frameworks', 'unclaimed', '88', 'sweating', 'nat', 'junk', 'equip', 'close', 'arrows', 'booth', 'hadoop', 'spose', 'letting', 'extended', 'verifying', 'photo', 'sparker', 'product', 'magzine', 'leaving', 'needle', 'evilfeast', 'pair', 'tweezers', 'slideshow', 'civic', 'titans', 'outsiders', 'fido', 'crates', 'fetch', 'improvise', 'stellar', 'wu', 'loop', 'altered', 'elegies', 'insiders', 'camel', 'continuous', 'fountain', 'managers', 'bed', 'pvzgw2', 'jenny', 'hazards', 'undressing', 'joining', 'wow002', 'explorer', 'characters', 'jews', 'dora', 'tribes', 'legendarygaming', 'shahmen', 'hval', 'deluxe', 'tier', 'wework', 'ashkenazi', 'duran', 'feng', 'salt', 'foote', 'moved', 'stonehenge', 'shine', 'everitt', 'running', 'questions', 'lombardo', 'flaming', 'suave', 'justice', 'photographers', 'solo', 'takashi', 'ghorba', '和訳', 'prismcorp', 'akai', 'sliding', 'ellegarden', 'sirens', 'tropic', 'viklund', 'zero', 'faded', 'distance', 'enterprises', 'fly', 'cousins', 'brecht', 'seki', 'partners', 'ameel', 'nypd', 'rave', 'clearskies', 'calculus', 'modi', 'narendra', 'rethink', 'mainstream', 'sons', '22nd', 'spire', 'rvg', 'vine', 'willows', 'mckeown', 'erin', 'weep', 'vi', 'knight', 'chronos', 'revolution', 'roundtable', 'featherstone', 'howl', 'leviathan', 'cepheid', 'foodie', 'alexandra', 'spectacular', 'expressions', 'lodis', 'lovers', 'lp', 'lucas', 'module', 'mug', 'mockery', 'slay', 'flesh', 'daniel', 'gran', 'abbeycraft', 'gordon', 'corneas', 'additional', 'greece', 'words', 'treasure', 'redwall', 'hermano', 'undoing', 'fup', 'offset', 'queer', 'ogre', 'un3h', 'randy', 'protomen', 'pg_trgm', 'regulated', 'hockey', 'fuck', 'bellend', 'goodbye', 'barbeque', '18', 'bioprinting', 'gaming', 'powering', 'cat', 'podcast', 'apps', 'writers', 'filing', 'deductions', 'quickbooks', 'deduct', 'policy', 'mode', 'draft', 'assistance', 'hague', 'codex', 'vaccine', 'entry', 'texto', 'millions', 'cycads', 'megan', 'shame', 'shauf', 'dvm', 'venus', 'therapeutic', 'theodore', 'hara', 'jetblue', 'dawn', 'graze', 'cynda', 'unbreakable', 'rudeness', 'dread', 'illusion', 'invocation', 'iliad', 'roosevelt', 'roof', 'nutrition', 'barthes', 'tnw', 'receive', 'fetish', 'roland', 'shigihara', 'absolutely', 'truth', 'viaticum', 'andy', 'fear', 'skyline', 'gates', 'crawford', 'ajj', 'violence', 'apostate', 'domestic', 'laura', 'neon', 'muse', 'apron', 'cipher', 'birdsongs', 'annulment', 'repair', 'myth', 'answers', 'respect', 'homeric', 'prazer', 'tries', 'speaks', 'leukemia', 'mesozoic', 'religion', 'phd', 'gomorrah', 'convention', 'morrone', 'damage', 'dairsmuid', 'promising', 'sexy', 'girlfriend', 'thief', 'brewed', 'club', 'cafe', 'original', 'hot', 'lights', 'choose', 'cup', 'unfair', 'redux', 'marlboro', '95mph', 'immunotherapy', 'breast', 'proton', 'email', 'streaming', 'october', 'yonder', 'keri', 'noble', '89', 'gino', 'vannelli', 'helix3', 'vidal', 'findlaw', 'faith', 'recap', 'blockchain', 'payer', 'realistic', 'quality', 'armed', 'commitee', 'cotown', 'consumers', 'hnr72', 'webinar', 'progression', 'burn', 'ancestors', 'carve', 'infinite', 'ws2016', 'predict', 'menopause', 'window', 'later', 'printed', 'homework', 'vivaldi', 'revisited', 'decisions', 'having', 'wheel', 'selection', 'equilibrium', 'ferris', 'antidepressants', 'kawaii', 'studio', 'waveforms', 'dignity', 'siren', 'taxonomy', 'invaders', 'outer', 'grounded', 'pals', 'inquiry', 'endless', 'circles', 'dying', 'application', 'artist', 'fabrikam', 'residences', 'pokestop', 'gift', 'mabel', 'bat', 'ongoing', 'musical', 'greer', 'toyshop', 'protecting', 'harder', 'vantage', 'stronger', 'input', 'transaction', 'methlab', 'rainforests', 'borrowed', 'skeptics', 'section', 'calls', 'qos', 'oxford', 'olympiad', 'launching', 'mirrors', 'disconnect', 'mist', 'grant', 'rhythms', 'operators', 'mario', 'oneups', 'zdnet', 'green', 'storms', 'yesallmen', 'metoo', 'mal', 'devisa', 'ashton', 'encryption', 'mime', '250th', 'apexpages', 'clear', 'getmessages', 'rovics', 'petty', 'lawyer', 'eureka', 'stockade', 'charge', 'parent', 'scenes', 'godspeed', 'render', 'batch', 'emperor', 'redeemer', 'universe', 'spray', 'sunscreen', 'customers', 'yelp', 'reverse', 'bird', 'wood', 'bloom', 'algae', 'personalization', 'orcompose', 'emily', 'dickinson', 'ago', 'houses', 'dns', 'sustainable', 'lac', 'educators', 'goals', 'publication', 'sweat', 'comments', 'interact', 'skull', 'killer', 'innocent', 'kessel', 'environment', 'silly', 'instagram', 'liked', 'listings', 'gotta', 'idiomatic', 'expression', 'rymer', 'cocaine', 'negotiating', 'flame', 'advent', 'sorrow', 'purdue', 'won', 'proofreading', 'lottery', 'relatable', 'sharing', 'movies', 'overrated', 'steam', 'owl', 'bosch', 'rolls', 'vnexpress', 'vietnamese', 'wraps', 'lessons', 'legacy', 'detailed', 'guabancex', 'spirit', 'tiltas', 'northwestern', 'disasters', 'narrative', 'media', 'infrastructure', 'buck', 'flask', 'everyday', 'ranger', 'revenge', 'eagles', 'nameless', 'baseball', 'flip', 'symbol', '1000', 'bruce', 'traduzione', 'soundclout', 'greavsie', 'lows', 'po33', 'samsara', 'guilayout', 'hired', 'experiment', 'sport', 'declining', 'unprecedented', 'flood', 'films', 'hands', 'breathe', 'adjust', 'bsd', 'amon', 'australian', 'langhorne', 'pores', 'kiwi', 'amarth', 'legs', 'width', 'maryland', 'screen', 'spanish', 'basin', 'stinger', 'message', 'sennzai', 'demonbrother', 'zoom', '048', 'niman', 'ft', 'fim', 'sunset', 'とか', 'veil', 'hallmark', 'cw', 'laur', 'v1', '87', 'shrestha', 'lungs', 'guns', 'advantage', 'bulgarian', 'pora', 'celebrity', 'brain', 'garofalo', 'outshines', 'colours', 'favorability', 'michelle', 'iconic', 'sotunda', 'sara', 'effects', 'visual', 'hoover', 'purpose', 'goodwill', '1928', 'bears', 'gummi', 'fearless', 'pass', 'exam', 'march', 'rahnuma', 'deccan', '02', 'suffrage', 'bookmyshow', 'ettech', 'tips', 'tank', 'traffic', 'al', 'nv', 'variables', 'sorey', 'spectrum', 'tyshawn', 'differences', 'pivot', 'burnout', 'voip', 'german', 'tpb', 'panther', 'kart', 'pavilion', 'mathematical', 'seat', 'headrest', 'places', 'easiest', 'babai', 'train', 'karelian', 'privilege', 'isomorphism', 'isthmus', 'poison', 'latency', 'conquers', 'palace', 'glove', 'haptic', 'pillars', 'perception', 'measuring', 'mighty', 'directed', 'ro', 'presents', 'max', 'evil', 'amorphis', 'status', 'result', 'equestria', 'graph', 'jake', 'kaufman', 'underlying', 'academic', 'supplies', 'teens', 'simple', 'filed', 'equivalent', 'suhd', 'editorial', 'reuters', 'beings', 'graham', 'plowman', 'standing', 'lawyers', 'dads', 'suspects', 'poland', 'writing', 'suggestions', 'surely', 'deck', 'slides', 'shrivels', 'lite', 'bean', 'used', 'optimal', 'cheese', 'macaroni', 'sloan', 'dyer', 'pbs', 'cdn', 'manipulation', 'cloudinary', 'intel', 'nuc', 'palm', 'republic', 'rename', 'swtor', 'alex', 'karalexis', 'fightland', 'audiotree', 'arezzo', 'villa', 'chimaera', 'unmasking', 'element', 'hosting', 'greed', 'cyclone', 'depraved', 'addthis', 'buttons', 'customize', 'unknown', 'camp', 'congo', 'haunted', 'enter', 'streamline', 'amp', 'tutorials', 'drinks', 'icon', 'height', 'announcing', 'bi', 'dashboard', 'theming', 'true', 'michul', 'ノノ', 'kuun', 'thermostat', '3rd', 'nest', 'rice', 'stuffing', 'chew', 'nus', 'revealing', 'historic', 'probed', 'planet', 'volkswagen', 'infographic', 'dominates', 'analyze', 'arcgis', 'kony', 'joseph', 'weathers', 'student', 'ridiculous', 'bumps', 'obama', 'voices', 'monsters', 'jewel', 'processing', '1998', 'evolution', 'search', 'flamethrowers', 'athens', 'surf', 'ga', 'gls4562', 'anxiety', 'evp', 'mali', '8636th', 'situation', 'ps', 'golem', 'disney', 'debunking', 'disability', 'myths', 'hip', 'summer', 'hop', 'authentic', 'employee', 'educational', 'waste', 'motion', 'animator', 'illustrator', 'duke', 'catena', 'serving', 'sure', 'flop', 'finalists', 'inventors', 'collegiate', 'innovations', 'memorial', 'district', 'parramatta', 'swimming', 'las', 'pd', 'marathon', 'midtown', 'originals', 'fourth', 'cons', 'muzzey', 'robinson', 'pooches', 'kerry', 'weighing', 'inner', 'boatload', 'delivers', 'masterclass', 'ferrari', 'mercedes', 'curtain', 'suburban', 'tees', 'kmart', 'decades', 'bfi', 'abortion', 'legalized', 'quantum', 'bloc', 'oupblog', 'philosopher', 'decisive', 'vault', 'heated', 'ignition', 'suitland', 'despair', 'lowest', 'envy', 'deserve', 'ministry', 'blackhawks', 'keys', 'sync', 'subway', 'slips', 'village', 'parity', 'geth', 'quietly', 'warp', 'rhino', 'kashi', 'prem', 'fave', 'providing', 'complex', 'supporting', 'nationalbaconloversday', 'bacon', 'chintan', 'ode', 'joshua', 'caregivers', '1300', 'baltimore', 'buddha', 'forecast', 'graphical', 'wqik', 'quoted', 'believe', 'springing', 'laubrock', '28th', 'cradle', 'ingrid', 'owner', 'elements', 'coasters', 'roller', 'lose', 'smells', 'musty', 'moths', 'stored', 'collider', 'undergraduate', 'connected', 'bonsai', 'makoto', 'azuma', 'mark', 'ireland', 'continues', 'rhea', 'observatory', 'organized', 'profile', 'census', 'afi', 'alright', 'pending', 'domino', 'tracker', 'patent', 'trips', 'contests', 'jeffrey', 'melted', 'toyota', 'fayman', 'replacing', 'fripp', 'hypermarket', 'stores', 'spar', 'disappeared', 'neuter', 'languages', 'gender', 'roman', 'secrets', 'success', 'monument', 'swords', 'spectre', 'godmaker', 'bone', 'huge', 'fine', 'verdant', 'crossing', 'script', 'conclusion', 'increase', 'selfish', 'parking', 'roads', 'mediocracy', 'mediocre', 'urlo', 'oak', 'acoustic', 'wye', 'louder', 'runs', 'machetes', 'councils', 'sights', 'items', 'wonder', 'member', 'freak', 'economic', 'bangers', 'tartuffe', 'necessities', 'montreal', 'hayon', 'toy', 'vinyl', 'taiwanese', 'aren', 'spry', 'forbes', 'sweets', 'wrif', 'beer', 'resurgence', 'mass', 'accenture', 'belt', 'scout', '1965', 'classroom', 'traits', 'soulsborne', 'build', 'wheezer', 'leaders', 'powerful', 'sekiro', 'bosses', 'successful', 'thelaniekalbach', '113', 'jimmy', 'ranked', 'neutron', 'sticker', 'fit', 'wipes', 'glory', 'walk', 'brake', 'invincible', 'nigel', 'saiyan', 'helping', 'curves', 'unable', 'nile', 'stroke', 'isaacs', 'survivor', 'teeth', 'dropbars', 'lips', 'honey', 'tongue', 'slave', 'gregory', 'levers', 'pot', '30ct', 'medley', 'crimson', 'feminine', 'blaze', 'silverthorn', 'digicert', 'ca', 'withdrawal', 'notice', 'hint', 's10', 'mo', 'gunship', 'horizon', 'vanity', 'reopen', 'rican', 'devices', 'usb', 'installing', 'sydney', 'easier', 'kat', 'schadt', 'favorite', 'toasted', 'tiki', 'coconut', 'fault', 'passes', '1969', 'stotram', 'shiva', 'mckenna', 'mentions', 'praise', 'tandava', 'famous', 'lord', '117', 'psalm', 'scripture', 'jered', 'firework', 'disfigures', '33', 'genome', 'wuhan', 'aaaaaaaaaaaaaaaaaaaaaaaaaaaaaaaaa', 'tomorrow', 'college', 'goal', 'drive', 'transform', 'fourier', 'discrete', 'disrupted', 'said', 'iphone', 'table', 'surge', 'breach', 'sage', 'chamber', 'blake', 'noncitizen', 'voting', 'salon', 'ms', 'wanda', 'hair', 'heritage', 'mothering', 'calendar', 'leadpower', 'html5', 'wi', 'concerts', 'milwaukee', 'shower', 'belle', 'ponce', 'plaza', 'check', 'hemochromatosis', 'forward', 'busy', 'hispanic', 'smith', 'alternative', '14', 'dw', 'hughes', 'howard', 'merger', 'nation', 'electricity', 'sources', 'juvenile', 'alameda', 'rae', 'casey', 'cult', 'meetings', 'launched', 'newly', 'commerc', 'voice', 'appendix', 'opinion', 'dc', 'regions', 'wales', 'pokémon', 'pop', 'skeptic', 'temperatures', 'risen', 'didn', 'orange', 'jeff', 'buffoon', 'raise', 'weymouth', 'lago', 'kktx', 'aransas', 'port', 'crying', 'ricky', 'gummy', 'tape', 'soda', 'duct', 'visio', 'excel', 'visualizer', 'diagram', 'stereo', 'lower', 'mono', 'ffmpeg', 'usual', 'error', 'indicate', 'abbreviation', 'sentence', 'initiative', 'launches', 'bishop', 'nah', 'winka', 'thepinkink', 'instant', 'planner', 'stickers', 'wars', 'southercross', 'koigasaki', 'clouds', 'truck', 'vogues', '3ws', 'died', 'burkette', 'singer', 'base', 'powered', 'instill', 'nervous', 'braille', 'opportunity', 'seedlings', 'cooling', 'newest', 'satellite', 'threatens', 'cake', 'fans', 'soma', 'decadent', 'patio', 'expands', 'brixton', 'orangetheory', 'ellen', 'created', 'latham', 'condolences', 'wgci', 'anderson', 'lyrica', 'passing', 'chunklet', 'chess', 'budweiser', 'pak', 'throw', 'determine', '960', 'k102', 'ran', 'vacuum', 'cleaner', 'debuts', 'dyson', 'chuck', 'dog', 'eagle', 'healthineers', 'nvidia', 'streamlining', 'siemens', 'trafficking', 'residents', 'involvement', 'perrine', 'lightning', 'winter', 'passive', 'reveal', 'debt', 'parallel', 'gatherings', 'rates', 'diodes', 'overseas', 'admins', 'advises', 'bryson', 'fellow', 'criticized', 'dechambeau', 'peace', 'incl', 'vandals', 'rare', 'vandalism', 'footpath', 'smothered', 'rasta', 'peth', 'sanders', 'bernie', 'buttigieg', 'wealth', 'worry', '1075', 'treehouse', 'robin', 'rent', 'ps4', 'pro', 'mary', 'chadwick', 'melts', 'permanent', 'ue', 'speaker', 'bluetooth', 'boom', 'geneva', 'thunder', 'roberts', 'lecture', 'davies', 'g08', 'sir', 'coordinated', 'leveraging', 'emarketer', 'forecasts', 'marketers', 'iran', 'inauthentic', 'russia', 'spacecraft', '16th', 'plum', 'brook', 'amendment', 'cases', 'orion', 'court', 'artemis', 'challenging', 'transfixing', 'plant', 'enthusiasts', 'scaled', 'puerto', 'marantz', 'visible', 'device', 'connectable', 'cr611', 'spooks', 'creator', 'forthcoming', 'marple', 'reboot', 'richmond', 'hospitalized', 'braxton', 'tamar', 'grind', 'fake', 'ball', 'lookalike', 'flavorless', 'highest', 'cio', 'canvas', 'stretched', 'seed', 'ag', 'banking', 'images', 'scale', 'fboss', 'strong', 'lace', 'promises', 'crucible', 'austin', 'encroachments', 'virtues', 'freed', 'ward', '23', 'vices', 'gas', 'warwickshire', 'decay', 'election', '150', 'oct', 'sushi', 'tone', 'llama', 'swan', 'sq', 'navrangpura', 'arden', 'liv', 'stoneaged', 'henley', 'prediction', 'opentable', 'template', 'pizza', 'finds', 'despite', 'enclave', 'feb', 'unreleased', 'comparison', 'bypass', 'client', 'names', 'course', 'steven', 'par', 'ford', 'boston', 'davidson', 'cabinet', 'softether', 'cyberroam', 'globe', 'golf', 'vpn', 'premier', 'digitalocean', 'startups', 'vigil', 'victims', 'honors', 'amphitheatre', 'sts9', '09', 'survey', 'september', 'v103', 'moorekeith', 'chante', 'duets', 'warming', 'forecasting', 'cubesat', 'approach', 'micromas', '365', 'halloween', 'breastplate', 'patrick', 'gives', 'collective', 'kept', 'mcgill', 'suspect', 'arrest', 'stabbing', 'asap', 'evaristo', 'enhanced', 'comcast', 'xfinity', 'bernardine', 'holders', 'airdrop', 'announcement', 'efor', 'force', 'bibox', 'protocol', 'apache', 'kafka', 'kubernetes', 'alleged', 'colicchio', 'fidi', 'sued', 'jetsons', 'gin', 'wong', 'canadian', 'graduate', 'casper', 'sdn', 'hyper', 'iov', 'shadowhunters', 'toronto', 'mick', 'rolling', 'fireworks', '700wlw', 'shortages', 'floats', 'expiration', 'closures', 'filter', 'environments', 'autonomy', 'proof', 'outdoor', 'shorten', 'complicated', 'cantonese', 'zazzle', 'photoshop', 'businesses', '40', 'donald', 'quick', 'investigations', 'dining', 'pt', 'nordic', 'varg', 'flora', 'tex', 'decline', 'array', 'hpe', 'frontier', 'lulu', 'independent', 'rpgs', 'playing', 'dude', 'watching', 'toilet', 'catches', 'brexit', 'spiegel', 'farewell', 'der', 'crowned', 'beautypageants', 'dudeja', 'nishtha', 'deaf', 'jeremy', 'dubble', 'thelaunchpad', 'seabird', 'squeeze', 'blame', 'blob', 'gall', 'nick', 'woa', 'putting', 'munster', 'gyros', 'suv', 'network', 'mercy', 'gungor', 'porter', 'gate', 'worship', 'pathologically', 'deformity', 'consciousness', 'explicit', 'ux', 'mentallo', 'fixer', 'remastered', 'wicked', 'supersonic', 'advanced', 'creatures', 'nazi', 'hollow', 'fail', 'supposed', 'apart', 'fell', 'mcafee', 'gideon', 'trials', 'emblem', 'math', 'talented', 'johns', 'cryptography', 'codes', 'matching', 'edge', 'min', 'algorithm', 'maximum', 'japan', 'expert', 'taboo', 'menstruation', 'lenders', 'bfsi', 'creditmate', 'puzzle', 'jonathan', 'usa', 'strip', 'investing', 'adolescent', 'behavior', 'creativity', 'unifying', 'wave', 'unlocking', 'credit', 'testing', 'coordinator', 'autocad', 'eliminate', 'broadband', 'gap', 'commitment', 'increases', 'rural', 'electrically', 'vertical', 'antenna', 'loading', 'proper', 'coil', 'stuck', 'dumpster', 'near', 'manage', 'usagov', 'loved', 'seeing', 'divorces', 'shultz', 'honored', 'athletics', 'george', 'disrespect', 'athletes', 'dc101', 'teaches', 'coach', 'virginia', 'murs', 'opening', 'olly', 'feud', 'brother', 'johnnie', 'walker', 'dusty', 'spec', 'students', 'digg', 'thinking', 'stewart', 'storytelling', 'thoughts', 'slack', 'butterfield', 'engineering', 'linked', 'mayo', 'pressure', 'clinic', 'aus', 'dialogue', 'blut', 'nord', 'memoria', 'vetusta', 'curses', 'gerard', 'medal', 'paint', '101one', 'edbd', 'wjrr', '27', 'earthday', '2008', 'cartwheel', 'teacher', 'underwear', 'wearing', 'brimaxian', 'sega', 'sack', 'secretary', 'elite', 'semen', 'foulest', 'sheltered', 'ruins', 'beverast', 'ván', '2016', 'zito', 'teddy', 'porcupine', 'doesn', 'bay', 'processor', 'hubs', 'understanding', 'पल', 'लग', 'आयएनएस', 'रवर', 'रड', 'maharashtra', 'sectionin', 'carson', 'clinton', 'b93', 'produce', 'walmart', 'nc', 'arb', 'combining', 'arbitration', 'med', 'barcelona', 'britain', 'mini', 'brings', 'mediation', 'dispute', 'hotter', 'heatwave', 'offices', 'technologies', 'inspired', 'match', 'eclipse', 'orbiter', 'taken', 'naked', 'raided', 'handcuffed', 'term', 'canned', 'brewer', 'wort', 'boiling', 'spa', 'az', 'resort', 'climb', 'feeling', 'carefree', 'sting', 'prices', 'recs', 'los', 'boulders', 'meets', 'continue', 'scottsdale', 'angeles', 'popkiss', 'weddingwire', 'hussle', 'nipsey', 'pops', 'ashlee', 'mural', 'focus', 'resilience', 'vulnerable', 'oecd', 'console', 'addon', 'seperate', 'include', 'hollywood', 'hamilton', 'ktu', 'laying', 'midnite', 'cmt', 'mastercard', 'index', 'visited', 'johannesburg', 'destination', 'small', 'older', 'ripped', 'print', 'bible', 'coverage', 'plc', 'farmdoc', 'option', 'q104', 'geddy', 'collected', 'basses', 'ozonee', 'gathering', 'kunayala', 'va', 'compiled', 'soul', 'psychiatry', 'british', 'bipolar', 'unipolar', 'techniques', 'flat', 'indonesian', 'feast', 'wajan', 'gmjr', 'espn', 'crowley', 'thing', 'ybor', 'tunnels', 'flz', 'fl', 'cates', 'throws', 'peninsula', 'starred', 'upper', 'elizabeth', 'michelin', '108', 'spacey', 'accuser', 'matty', 'pleads', 'cards', 'met', 'bluegem', 'pushed', 'backer', 'nature', 'magazine', 'dollar', 'doherty', 'multimillion', 'superjam', 'jelly', 'fraser', 'hare', 'duck', 'canard', 'bucky', 'deadeye', 'modernizing', 'combat', 'rdecom', 'usaasc', 'child', 'pit', 'slayer', 'poet', 'poetry', 'diet', '955', 'platform', 'thesaurus', 'themefusion', 'remove', 'import', 'duplicate', 'content', 'poverty', 'brainpower', 'concentration', 'reduces', 'needed', 'paypal', 'usd', 'royal', 'outage', 'pingdom', 'heartbreaking', 'jet', 'replacement', 'cam', 'seek', 'newton', 'allow', 'twin', 'pickaway', 'wkkj', 'crash', 'administration', 'constitutional', 'edelson', 'democracy', 'epic', 'hard', 'candidates', 'notoriously', 'following', 'assess', 'skills', 'folic', 'grandchildren', 'wiaa', 'championships', 'preview', 'era', 'developer', 'plan', 'pa', 'pollution', 'pennsylvania', 'repeal', 'expect', 'startup', 'showcase', 'stateimpact', 'clean', 'winning', '26', 'detector', 'taught', 'tests', 'cop', 'attacks', 'attackers', 'theories', 'proofpoint', 'expand', 'prey', 'upcoming', 'attend', 'briefing', 'jee', '1059', 'diemon', 'skool', 'ninja', 'ninn', 'schoolor', 'tribute', 'synthesizers', 'neural', 'versatile', 'text', 'makes', '710', 'pete', 'mccarthy', 'drink', 'pho', 'bao', 'banh', 'prints', 'meat', 'photography', 'approval', 'tennessee', 'usda', 'snap', 'flexibilities', 'tornado', 'powershell', 'primary', 'gov', 'desantis', 'voted', 'paige', 'destefano', 'spotlight', 'songwriter', 'weekend', '21', 'pilots', 'presley', 'bringing', 'eating', 'mendes', 'trap', 'shirtless', 'shawn', 'thirst', 'avocado', 'joanie', 'largest', 'internal', 'revenue', 'taxes', 'renters', 'cobra', 'stereolab', 'phases', 'milky', 'en', 'blogs', 'click', 'winds', 'philadelphia', 'wednesday', 'miles', 'squalls', 'crucial', 'offshore', 'rig', 'energyworld', 'ongc', 'comparative', 'applications', 'pdf', 'sector', 'jamie', 'losings', '150million', 'recipe', 'georgia', 'mathew', 'archives', 'fancy', 'wazz', 'morris', 'g105', 'zedd', 'maren', 'hnrlp004', 'cool', 'steve', 'middle', 'pretty', 'subsidiarity', 'principle', 'fact', 'sheets', 'alcohol', 'medically', 'detox', 'waismann', 'supervised', 'physical', 'experiences', 'ibm', 'sephora', 'tampa', 'du', 'arbeitest', 'morgen', 'dce', 'authenticity', 'holiday', 'spotify', '21st', 'bangkok', 'highlight', 'routes', 'gray', '950', 'explaining', 'tuition', 'univ', 'kprc', 'pursuit', 'wisn', 'epidemic', '1130', 'dan', 'hate', 'donnell', 'hoax', 'bash', 'lineup', 'empowerment', '640', 'gather', 'dozens', 'homeless', 'trucks', 'serve', 'kfi', 'liberty', '1994', 'unseen', 'conspiratorial', 'introduction', 'epperson', 'reports', 'raw', 'bog', 'mummies', 'windover', 'mtdna', 'actual', '023', '8th', 'gari', 'miniawy', 'whities', 'abdullah', 'threats', 'sacramento', 'topple', 'hemp', 'supercapacitor', 'nanosheets', 'graphene', 'instincts', 'gibson', 'contributor', 'conversations', 'trusting', 'wildlife', 'ann', 'teri', 'shaver', 'trailer', 'fiverr', 'crust', 'leatherchalice', 'million', 'trade', 'monday', 'just', 'thor', 'wwe', 'exercise', 'olex', 'enisa', 'mumbai', 'mauritania', 'farms', 'winners', 'losers', 'mormon', 'slumscraper', 'puebla', 'veracruz', 'kidnapped', '64', 'higher', 'lie', 'conspiracy', 'cisco', 'unravel', 'widow', 'steel', 'assign', 'methodology', 'patriarch', 'island', 'wingnut', 'annie', 'merritt', 'kit', 'hemisphere', 'partner', 'urges', 'strategic', 'rubio', 'recognize', 'vital', 'brazil', 'truthers', 'chargers', 'fox', 'nfl', '11323', 'proven', 'smarter', '90', 'honor', 'investigative', 'foundation', 'abrams', 'journalism', 'probation', 'randolph', 'orchard', 'wsus', 'groping', 'draws', 'flavors', 'posh', 'overhaul', 'tastic', 'scavenger', 'nemo', 'fin', 'epcot', 'leave', 'nba', 'reason', 'chose', 'durant', 'superstar', 'checklist', 'api', 'basic', 'testrail', 'plus', 'based', 'extreme', 'teachable', 'jpl', 'vmware', 'computing', 'vmworld', 'lane', 'enzo', 'delays', 'countries', 'leading', '3t', 'rwd', 'g70', 'kfbk', 'altruism', 'sxsw', 'ceo', 'heather', 'engine', 'brunner', 'addition', 'strangeness', 'sfu', 'cbc', 'caribbean', 'exposing', 'fusion', 'action', 'prepare', 'grants', 'prioritizing', 'jessica', 'simpson', 'lbs', 'gadget', 'achieve', 'remarkable', 'premiums', 'hike', 'sales', 'fada', 'raspberry', 'sd', 'pi', 'whale', 'scientists', 'approves', 'second', 'muscular', 'spinal', 'atrophy', 'zolgensma', 'infants', 'kuffs', 'repress', 'pubcrawl', 'society', 'marvel', 'cyber', 'fat', 'flirting', 'kristen', 'looks', 'mistook', 'lightyear', 'told', 'spencer', 'strength', 'researchers', 'minnesota', 'badgers', '38', 'bischoff', 'jherek', 'assault', 'stokes', '1011', 'raz', 'mani', 'millss', 'b2k', 'exposes', 'winterized', 'therma', 'gilet', 'gb', 'zip', 'surgery', 'inpatient', 'cardioprotection', 'controlled', 'abdominal', 'ischemic', 'preconditioning', 'randomized', 'elective', 'slide', 'invent', 'decks', 'aws', 'strategies', 'react', 'away', 'ptsd', 'trained', 'heartless', 'shortsighted', 'wsyr', 'syracuse', 'article', 'lonsberry', 'response', 'adventure', 'thurs', 'est', 'indie', '7pm', 'maloya', 'electro', 'experiments', 'scotty', 'mac', 'br', 'motto', 'leaves', 'cathedral', 'kolkata', 'leads', 'restoration', 'coffin', 'bloopers', 'funny', 'curricula', 'infant', 'intentionally', 'toddler', 'working', 'furthering', 'individual', 'growing', 'wp', 'autodesk', 'grooming', 'rigging', 'character', 'cartoon', 'prof', '740', 'throwing', 'ktrh', 'berry', 'crazy', 'kggi', 'rub', 'vapor', 'vick', 'erives', 'heard', 'hack', 'evelyn', 'problems', 'factors', 'politics', 'rank', 'politicians', 'iop', 'responsible', 'simpsons', 'sweet', 'floss', 'pocket', 'nevada', 'homer', 'related', 'palestine', 'settlements', 'activities', 'opt', '760', '22', 'hutch', 'mothership', 'cnmi', 'categorical', 'certain', 'commonwealth', 'individuals', 'mariana', 'parole', 'islands', 'termination', 'crisis', 'digit', 'straight', 'funnel', 'calendly', 'months', 'flipping', '24', 'helped', 'cuomo', 'tractor', 'northeast', 'distribution', 'breaks', 'herkimer', 'parks', 'kootenay', 'establishment', '100th', 'arrived', 'alerts', 'seattle', 'hospital', 'careers', 'northwest', 'anesthesia', 'technician', 'medicine', 'remote', 'operations', 'indian', 'breeding', '4tet', 'quartet', 'introduce', 'hazing', 'joyce', 'congresswoman', 'congressman', 'fudge', 'educate', 'marcia', 'resident', 'institute', 'expenses', 'reimbursement', 'guilty', 'partial', 'bandra', 'held', 'friday', 'year', 'castings', 'twice', 'options', 'effect', 'portal', 'peek', 'sneak', 'chooser', 'license', '650', 'armstrong', 'gma', 'robach', 'kste', 'epstein', 'strange', 'tailoring', 'brandequity', 'mandate', 'bags', 'kinnect', 'therapeutics', 'accelerate', 'biomedical', 'evoq', 'curtin', 'teaching', 'senior', 'economics', 'perth', 'notebook', 'discoveries', 'org', 'onenote', 'curriculum', 'delivered', 'diamond', 'woai', 'charged', 'spreading', 'bionix', 'causing', 'kai', 'charges', 'accident', 'liu', 'cfc', 'saf', 'shenandoah', 'bang', 'cuoco', 'loose', 'tied', 'wants', 'rosie', 'kaley', 'urshan', 'natalie', 'wfla', 'hilarious', 'responsive', 'humanitarian', 'lists', 'leasing', 'hbj', '19', 'poststratification', 'disease', 'inference', 'statistical', 'model', 'modeling', 'bayesian', 'covid', 'estimates', 'causal', 'severity', 'invention', 'released', 'patreon', 'leakage', 'tester', 'capacitor', 'chasez', 'nsync', 'jc', 'asian', 've', 'wtam', '1100', 'pummeling', 'snyder', 'cleveland', 'keyboard', 'enterprise', 'videos', 'gem', 'stratford', 'celebrate', 'wins', 'contact', 'info', 'declaring', 'jr', 'newsom', 'officer', 'q102', 'aces', 'hiring', 'reform', 'cuts', 'checkpoint', 'jobs', 'morningstar', 'ranking', 'frame', 'sleigh', 'mattress', '5ft', '4ft6', 'hussey', 'imposter', 'seen', 'kurt', 'kbrq', 'staley', 'layne', '5th', 'cobain', 'comes', 'servers', 'suggestion', 'viruses', 'warn', 'discord', 'sending', 'mutual', '1979', 'boogie', 'gram', 'lm', 'memphis', 'score', 'surahs', 'perform', 'ta', 'araf', 'yoonus', 'kaafirun', 'ikhlas', 'ha', 'ruqyah', 'wordpress', 'agreement', 'scholar', 'safeguard', 'tejano', 's7', 'workshop', 'assistant', 'acknowledge', 'restore', 'accounting', 'agriculture', 'sana', 'sandman', 'trail', 'ajax', 'aj', 'sanctum', 'athlete', 'airbackup', 'atlantic', 'astrology', 'wistia', 'talent', 'scariest', 'winner', 'takes', 'athemes', 'scene', 'sam', 'tempo', 'world', 'worries', 'themes', 'youthmovie', 'av', 'rico', 'ricardo', 'aviation', 'revision', 'reviews', 'award', 'awarded', 'theunlockingcompany', 'reverting', 'youtube', 'actors', 'zimbabwe', 'token', 'たい', 'adopt', 'reverbnation', '人才', 'tobias', 'thumbnail', '人材', 'thumbnailurl', 'adjustable', 'addicted', 'tile', 'york', 'tonight', 'yoga', 'rooftop', 'age', 'touchscreen', '127', 'telecom', 'route', 'wrentham', 'television', 'rouse', 'tells', 'templar', 'rooster', 'takeover', 'romance', 'yields', 'tes', 'automated', 'roles', 'testament', 'acquires', 'tool', 'wzlx', 'xwo', 'yammer', '106', 'robotic', 'thao', 'assist', 'tackle', 'schools', 'slaughterhouse', 'smashing', 'uncovers', 'ulver', 'use', 'useful', 'uf', 'app', 'slinging', 'stings', 'stock', 'uber', 'typhonian', 'twins', 'wing', 'skype', 'sixo', 'sissies', 'veliyath', 'turkey', 'sinha', '48', 'simulating', 'turbofan', 'sign', 'stream', 'sidebar', 'smoothie', 'stem', 'snowing', 'timeless', '80', 'statement', '85', 'spots', 'anime', 'spokesperson', 'unicef', 'spitfire', 'urgency', '6s', 'species', 'southron', 'unhide', 'southeastern', 'undeserving', 'southeast', 'soundbetter', 'sound', 'undercover', 'soreption', '6in', 'stay', 'angry', 'soon', '600', 'tunein', 'shutterstock', 'strengthen', 'allo', 'absent', '31', 'seekers', 'trio', '28', 'arts', 'void', 'wanna', 'abuse', 'tried', 'trending', 'ascension', 'sdk', 'ware', 'albums', 'asia', 'tackles', 'tail', 'scope', 'websites', 'alarming', 'travels', 'whip', 'accesspress', 'trailers', 'synthesis', 'arteries', 'tsumiki', 'selling', 'stripe', 'shortcode', 'shopee', 'ströer', 'sts', 'verb', 'archive', 'style', 'stylish', 'ts', 'shelly', 'subaru', 'substance', 'shells', 'aarp', 'abbey', 'aries', 'try', 'viral', 'abnormal', 'surrender', '36', 'visa', 'swat', 'arrive', 'tobar', 'dickollective', 'reproduce', 'repeat', 'heiresses', 'hide', 'context', 'highlife', 'highly', 'hills', 'hold', 'holly', 'holm', 'confluence', 'homicide', 'conference', 'confederate', 'honda', 'hopelessly', 'conditioning', 'horse', 'hosts', 'hotmail', 'hotspot', 'hr', 'hulu', 'hurrah', 'heaven', 'copter', 'corcoran', 'guidelines', 'goats', 'goes', 'craft', 'gone', 'grape', 'grapefest', 'graphic', 'coupons', 'grudge', 'counts', 'hacks', 'heartbeat', 'haiti', 'half', 'halted', 'hang', 'hardcover', 'hci', 'heads', 'heal', 'healthworld', 'hearing', 'hyperconverged', 'compete', 'hyperflex', 'kats', 'japanese', 'clipper', 'jingle', 'jira', 'kabul', 'classic', 'kanban', 'kansas', 'kapp', 'kate', 'kfan', 'jams', 'kid', 'chávez', 'kiis', 'kills', 'chronicles', 'kio', 'klarna', 'kmel', 'knowledge', 'koan', 'closer', 'izakaya', 'id', 'ink', 'communicating', 'improved', 'including', 'commercial', 'commerce', 'indoor', 'industry', 'inexorable', 'infinity', 'colorlib', 'inmate', 'itunes', 'insights', 'integrated', 'interpretive', 'intro', 'intros', 'investigating', 'investor', 'invisible', 'irontemplates', 'clovis', 'git', 'gifts', 'creations', 'engineered', 'efforts', 'electoral', 'ema', 'dell', 'embedding', 'emoticons', 'degradable', 'employed', 'definitive', 'enersys', 'english', 'editor', 'envato', 'essential', 'debit', 'debate', 'deals', 'deal', 'europe', 'evolve', 'examples', 'exceed', 'demonic', 'echoes', 'excellence', 'dolls', 'dine', 'dew', 'disgusting', 'display', 'dive', 'diving', 'diy', 'doctor', 'doctors', 'dole', 'dolphins', 'echo', 'don', 'doubleclick', 'downloads', 'downton', 'designs', 'drunk', 'drupal', 'early', 'eastern', 'ec', 'daze', 'dating', 'gave', 'cryout', 'flies', 'flows', 'foreseeable', 'current', 'forms', 'fpl', 'fraud', 'fraudsters', 'free', 'freelancer', 'fritto', 'flavor', 'fun', 'function', 'croma', 'future', 'fynbos', 'crispr', 'garcia', 'gartner', 'gatto', 'gauge', 'flavortown', 'customise', 'express', 'dallas', 'facility', 'factory', 'darlin', 'failures', 'fairy', 'falls', 'dances', 'dancer', 'fasano', 'features', 'featuring', 'customizable', 'dailymotion', 'feels', 'feenphone', 'filature', 'financial', 'finger', 'cybersecurity', 'fintech', 'firefox', 'flakes', 'kochs', 'cholera', 'ksab', 'password', 'outreach', 'outro', 'borrow', 'borlaug', 'booty', 'pac', 'booking', 'book', 'parties', 'bones', 'patients', 'outlook', 'bobby', 'patterns', 'pc', 'peak', 'bluehost', 'penny', 'perching', 'persian', 'blogger', 'pink', 'output', 'outback', 'place', 'breakfast', 'brigade', 'norman', 'brief', 'diffusion', 'nougat', 'nowlin', 'nowruz', 'ny', 'offers', 'officials', 'olds', 'osc', 'brave', 'olsen', 'branch', 'online', 'onset', 'opens', 'operating', 'order', 'origin', 'orleans', 'pioneering', 'plagued', 'new', 'basant', 'beckoning', 'push', 'quadrant', 'rachel', 'radiation', 'rainey', 'ramen', 'receivables', 'recipes', 'recognized', 'recovery', 'puritan', 'reduce', 'reflection', 'reflex', 'reggie', 'regrets', 'regulate', 'bans', 'rekerds', 'releases', 'remix', 'bee', 'publicise', 'plans', 'prime', 'plants', 'blade', 'playbook', 'plugin', 'podbean', 'political', 'polymers', 'porinju', 'pre', 'pricing', 'private', 'beliefs', 'best', 'prize', 'production', 'berkeley', 'progress', 'promotion', 'benchmarks', 'prop', 'prostate', 'providers', 'noco', 'neurosurgery', 'lags', 'lucifer', 'll', 'cause', 'catheter', 'lone', 'longbow', 'casualties', 'castle', 'loves', 'cash', 'lucia', 'mafia', 'celebrates', 'cart', 'magento', 'magical', 'maine', 'mainehealth', 'maintain', 'maker', 'makers', 'manoj', 'manpasand', 'ljung', 'celebrating', 'marc', 'chaos', 'chernobyl', 'chemistry', 'chemist', 'lares', 'chefs', 'large', 'latinx', 'lawrence', 'lay', 'leader', 'legislating', 'listening', 'lenovo', 'leon', 'lets', 'letty', 'lewis', 'liberal', 'libor', 'libra', 'lifts', 'listen', 'manual', 'cape', 'networks', 'multitasking', 'modified', 'monkey', 'monks', 'mooterus', 'motorist', 'mountain', 'movie', 'budget', 'moving', 'multistar', 'bubble', 'mobility', 'music', 'musicale', 'musician', 'browser', 'mythemeshop', 'named', 'negative', 'negro', 'nelson', 'broke', 'burrito', 'mobile', 'masse', 'cafepress', 'massive', 'material', 'means', 'campaigns', 'medicare', 'cameras', 'mellits', 'meltdown', 'menus', 'mikan', 'cactus', 'mob', 'milliseconds', 'c930', 'milo', 'minimum', 'minister', 'minutes', 'misra', 'mistakes', 'mitchell', 'mixer', '001']\n",
            "['future', 'year', 'sound', 'tips', 'mobility', 'libor', 'self', 'impact', 'koan', 'insurance', 'ema', 'old', 'present', 'casualties', 'chaos', 'fritto', 'gatto', 'ai', 'void', 'chemist', 'tunein', 'classroom', 'cafepress', 'gifts', 'change', 'listen', 'dog', 'persian', 'recipes', 'nowruz', 'police', 'magical', 'osc', 'technology', 'cut', 'foreseeable', 'dolphins', 'stem', 'arts', 'liberal', 'timeless', 'new', 'shower', 'box', 'term', '48', 'grudge', 'kapp', 'worries', 'aviation', 'automated', 'radiation', 'milliseconds', 'employed', 'learning', 'wing', 'berkeley', 'hosts', 'despite', 'employees', 'joe', 'good', 'consumer', 'software', 'latinx', 'celebrating', 'conference', 'treat', 'retirement', 'long', 'win', 'monkey', 'broke', 'rooster', 'rekerds', 'accenture', 'fearless', 'flash', 'project', 'hispanic', 'voices', 'means', 'surrender', 'absent', 'trail', 'echo', 'plagued', 'gauge', '2016', 'snowing', 'flakes', 'arrive', 'rachel', 'garcia', 'athlete', 'cancer', 'end', 'past', 'exceed', 'turbofan', 'blade', 'culture', 'cameras', 'olds', 'ago', 'wins', 'honda', 'cup', 'right', 'therapy', 'remix', 'denver', 'prop', 'warming', 'production', 'open', 'microsoft', 'heart', 'roll', '2017', 'hurrah', 'inexorable', 'youthmovie', 'progress', 'dead', 'speed', 'woman', 'national', '001', 'soundtrack', 'surely', 'march', 'strategies', 'sana', 'kmel', '106', 'style', 'disgusting', 'booty', 'happiness', 'weather', 'asian', 'sexy', 'people', 'blog', 'uses', 'celebrate', 'lead', 'home', 'better', 'girl', 'love', '2019', 'international', 'morning', 'fat', 'fighting', 'fin', 'fate', 'fightland', 'finale', 'faded', 'father', 'fight', 'file', 'fifth', 'fagin', 'field', 'fido', 'fault', 'fidi', 'fasano', 'filature', 'fim', 'filed', 'fact', 'facing', 'filter', 'facility', 'films', 'film', 'factor', 'factors', 'fail', 'farms', 'filing', 'factory', 'faster', 'fada', 'facebook', 'farmdoc', 'files', 'fast', 'ffmpeg', 'famous', 'feud', 'fetish', 'fayman', 'feeling', 'feel', 'fake', 'falcon', 'falling', 'faq', 'falls', 'fantomenk', 'fame', 'feb', 'featuring', 'families', 'features', 'featherstone', 'feather', 'feat', 'fboss', 'feast', 'family', 'fear', 'fans', 'fda', 'feels', 'feenphone', 'fees', 'favorite', 'fave', 'fetch', 'festival', 'failure', 'fancy', 'failures', 'farm', 'fair', 'farewell', 'favorability', 'ferris', 'feet', 'ferrari', 'feon', 'feng', 'feminine', 'fellowship', 'fairy', 'far', 'fellow', 'fell', 'faith', 'fest', 'flavor', 'finalists', 'freeglade', 'fraser', 'fraud', 'fraudsters', 'freak', 'free', 'freed', 'freelancer', 'fripp', 'freeway', 'fresh', 'freshmen', 'friar', 'friday', 'friends', 'francisco', 'frameworks', 'framelabel', 'frame', 'frail', 'fpl', 'foxy', 'fox', 'fourth', 'fourier', 'fountain', 'founder', 'foundation', 'foulest', 'foul', 'forward', 'forthcoming', 'frieza', 'frontier', 'formulas', 'gambling', 'g70', 'ga', 'gadget', 'gall', 'gallery', 'galás', 'game', 'ft', 'games', 'gaming', 'gang', 'gap', 'garage', 'garden', 'g105', 'g08', 'fynbos', 'fusion', 'fury', 'furthering', 'furrow', 'fup', 'funny', 'funnel', 'funeral', 'funded', 'fund', 'function', 'fun', 'fudge', 'fuck', 'forsythe', 'formula', 'finally', 'flask', 'fixer', 'fl', 'flag', 'flame', 'flamethrowers', 'flaming', 'flat', 'flip', 'fabrikam', 'flavorless', 'flavors', 'flavortown', 'flesh', 'flexibilities', 'fix', 'fiverr', 'fitz', 'fitness', 'fit', 'fisherman', 'fisher', 'fish', 'fireworks', 'firework', 'firefox', 'fintech', 'finger', 'fine', 'finds', 'findlaw', 'financial', 'flies', 'flipping', 'forms', 'ford', 'football', 'foote', 'footpath', 'forbes', 'forbidden', 'force', 'forecast', 'flirting', 'forecasting', 'forecasts', 'forest', 'forgotten', 'form', 'format', 'foodie', 'food', 'font', 'following', 'folic', 'focus', 'fm', 'flz', 'fly', 'flows', 'floss', 'florida', 'flora', 'flop', 'floor', 'flood', 'floats', 'face', 'executive', 'eyes', 'durant', 'dvd', 'dvm', 'dw', 'dwarf', 'dyer', 'dying', 'dynamic', 'dyson', 'ea', 'eagle', 'eagles', 'early', 'ears', 'earth', 'earthday', 'dusty', 'duran', 'easier', 'duplicate', 'drug', 'drugs', 'drums', 'drunk', 'drupal', 'du', 'dubble', 'duck', 'ducktails', 'duct', 'dude', 'dudeja', 'duets', 'duke', 'dumpster', 'easa', 'easiest', 'drones', 'edit', 'editor', 'editorial', 'edu', 'educate', 'education', 'educational', 'educators', 'effect', 'effects', 'effekt', 'efforts', 'efor', 'el', 'elbow', 'elderly', 'edition', 'edge', 'eastern', 'eden', 'easy', 'eat', 'eating', 'ebay', 'ec', 'echoes', 'eclipse', 'economic', 'economics', 'economy', 'ecorner', 'edan', 'edbd', 'eddsworld', 'edelson', 'dropbars', 'driver', 'elective', 'disrespect', 'distance', 'distribution', 'district', 'dive', 'divi', 'diving', 'divorce', 'divorces', 'diy', 'dj', 'dns', 'doctor', 'doctors', 'does', 'doesn', 'disrupted', 'disregard', 'doherty', 'disqus', 'disappeared', 'disaster', 'disasters', 'disconnect', 'discord', 'discover', 'discoveries', 'discovery', 'discrete', 'disease', 'disfigures', 'dish', 'disney', 'display', 'dispute', 'dogfuckers', 'doing', 'drive', 'double', 'download', 'downloads', 'downton', 'downtown', 'dozens', 'dr', 'draft', 'dragon', 'draws', 'dread', 'dream', 'dreamer', 'dreaming', 'drink', 'drinks', 'doubleclick', 'doron', 'dole', 'dora', 'doll', 'dollar', 'dolls', 'domestic', 'dominates', 'domino', 'don', 'donald', 'donate', 'donegan', 'donnell', 'donovan', 'doom', 'door', 'doors', 'election', 'electoral', 'eye', 'europe', 'evaristo', 'evelyn', 'evening', 'event', 'eventhandler', 'events', 'everitt', 'everyday', 'everytime', 'evidence', 'evil', 'evilfeast', 'evolution', 'evolve', 'evoq', 'european', 'eureka', 'exam', 'eu', 'error', 'eskapism', 'esoteric', 'espn', 'essential', 'est', 'establishment', 'estate', 'estimates', 'et', 'eternal', 'eternity', 'ethernet', 'etika', 'ettech', 'evp', 'examples', 'erin', 'experiments', 'experts', 'expiration', 'explaining', 'explicit', 'exploration', 'explorer', 'exposes', 'exposing', 'express', 'expression', 'expressions', 'extended', 'extending', 'extreme', 'exumer', 'expert', 'experiment', 'excel', 'experiences', 'excellence', 'exchange', 'exclusive', 'garofalo', 'exercise', 'exhibit', 'exiler', 'exorcist', 'expand', 'expanded', 'expands', 'expect', 'expenditure', 'expenses', 'experience', 'erives', 'erase', 'electrically', 'embedding', 'embrace', 'emily', 'emoticons', 'emperor', 'empire', 'employee', 'empowerment', 'en', 'enabling', 'enclave', 'encounter', 'encroachments', 'encryption', 'endless', 'enemy', 'emblem', 'embassy', 'enersys', 'emarketer', 'electricity', 'electro', 'elegies', 'element', 'elements', 'elephant', 'eliminate', 'elite', 'elizabeth', 'ellegarden', 'ellen', 'ellie', 'elvis', 'em', 'email', 'energyworld', 'enforced', 'era', 'envato', 'environments', 'envy', 'enzo', 'ep', 'epa', 'epcot', 'epic', 'epidemic', 'episode', 'epperson', 'epstein', 'equestria', 'equilibrium', 'equip', 'equivalent', 'environment', 'entry', 'engaged', 'entries', 'engine', 'engineer', 'engineered', 'engineering', 'england', 'english', 'enhanced', 'enisa', 'enslaved', 'ent', 'enter', 'enterprise', 'enterprises', 'entertainment', 'enthusiasts', 'gari', 'giant', 'gartner', 'insiders', 'inspirational', 'inspired', 'instagram', 'install', 'installing', 'instant', 'instill', 'instincts', 'institute', 'instruction', 'integers', 'integrated', 'intel', 'intentionally', 'interact', 'insights', 'insider', 'internal', 'inside', 'info', 'infographic', 'infrastructure', 'ingrid', 'initiative', 'injured', 'ink', 'inmate', 'inner', 'innocent', 'innovation', 'innovations', 'inpatient', 'input', 'inquiry', 'interconnect', 'internet', 'infinite', 'invisible', 'involvement', 'iop', 'ios', 'iov', 'iphone', 'iphones', 'iran', 'ireland', 'irelandball', 'irma', 'irontemplates', 'isaacs', 'isaiah', 'ischemic', 'ishmael', 'invocation', 'invincible', 'interpretive', 'investor', 'interview', 'intro', 'introduce', 'introducing', 'introduction', 'intros', 'invaders', 'invasion', 'invent', 'invention', 'inventors', 'investigating', 'investigations', 'investigative', 'investing', 'infinity', 'inference', 'humanitarian', 'id', 'ideas', 'identity', 'idiomatic', 'ignite', 'ignition', 'iheartradio', 'ii', 'iida', 'ikhlas', 'iliad', 'illusion', 'illustrator', 'image', 'images', 'imdb', 'ideal', 'icons', 'imperfect', 'iconic', 'hunted', 'hunter', 'hurricane', 'hussey', 'hussle', 'hutch', 'hval', 'hydrogen', 'hyper', 'hyperconverged', 'hyperflex', 'hypermarket', 'ibm', 'ice', 'icon', 'immunotherapy', 'import', 'infants', 'index', 'indian', 'indiana', 'indicate', 'indie', 'individual', 'individuals', 'indonesia', 'indonesian', 'indoor', 'industries', 'industry', 'indymag', 'inexpensive', 'infamous', 'infant', 'india', 'independent', 'importance', 'incredible', 'important', 'imposter', 'improve', 'improved', 'improving', 'improvise', 'inauthentic', 'incl', 'include', 'including', 'income', 'incoming', 'increase', 'increases', 'increasing', 'island', 'islands', 'isolation', 'kayla', 'kemet', 'kennedy', 'kept', 'keri', 'kernel', 'kerry', 'kessel', 'kevin', 'key', 'keyboard', 'keys', 'kfan', 'kfbk', 'kfi', 'kggi', 'kbrq', 'kawehi', 'khruangbin', 'kawaii', 'kafka', 'kai', 'kaley', 'kanban', 'kansas', 'karalexis', 'karelian', 'kart', 'kashi', 'kat', 'katamari', 'kate', 'katgotthecream', 'kats', 'kaufman', 'khalifah', 'kian', 'isomorphism', 'kisses', 'kitchen', 'kiwi', 'kktx', 'klarna', 'kmart', 'knew', 'knight', 'knights', 'knives', 'knix', 'know', 'knowledge', 'kochs', 'kodak', 'koigasaki', 'kit', 'kiss', 'kid', 'kirtan', 'kidnapped', 'kids', 'kiis', 'killed', 'killer', 'killigans', 'killing', 'kills', 'kimya', 'kind', 'kindness', 'king', 'kingdom', 'kinnect', 'kio', 'kabul', 'kablamus', 'kaafirun', 'jason', 'je021', 'jee', 'jeff', 'jeffrey', 'jelly', 'jenny', 'jered', 'jeremy', 'jersey', 'jessica', 'jet', 'jetblue', 'jetsons', 'jewel', 'jews', 'jc', 'japanese', 'k102', 'japan', 'issue', 'issues', 'isthmus', 'italian', 'items', 'itunes', 'izakaya', 'jack', 'jackson', 'jake', 'jako', 'jam', 'james', 'jamie', 'jams', 'jherek', 'jimmy', 'jingle', 'jira', 'journalist', 'journey', 'joyce', 'jp13', 'jpl', 'jr', 'jstor', 'jump', 'june', 'junk', 'juracan', 'just', 'justice', 'juvenile', 'jw', 'journalism', 'journal', 'joshua', 'john', 'jj', 'joanie', 'job', 'jobs', 'jodu', 'johannesburg', 'johnnie', 'joseph', 'johns', 'join', 'joining', 'jonathan', 'jones', 'jordan', 'hunt', 'human', 'gas', 'grant', 'grape', 'grapefest', 'graph', 'graphene', 'graphic', 'graphical', 'graves', 'gray', 'graze', 'great', 'greavsie', 'greece', 'greed', 'green', 'greer', 'grants', 'grandmothers', 'grey', 'grandmother', 'google', 'gorch', 'gordon', 'gore', 'gospel', 'got', 'gotta', 'gov', 'government', 'governor', 'graduate', 'graham', 'gram', 'gran', 'grandchildren', 'gregory', 'greymuzzle', 'goodbye', 'gummi', 'gungor', 'guns', 'gunship', 'gunther', 'guy', 'gym', 'gyros', 'ha', 'hack', 'hacks', 'hadoop', 'hague', 'hail', 'hair', 'haiti', 'gummy', 'guilty', 'grima', 'guilayout', 'grind', 'grinns', 'grocery', 'grooming', 'groping', 'ground', 'groundbreaking', 'grounded', 'group', 'growing', 'growth', 'guabancex', 'guerilla', 'guide', 'guidelines', 'goodwill', 'gonks', 'hulu', 'genesis', 'genome', 'george', 'georgia', 'gerard', 'german', 'geth', 'getmessages', 'gets', 'getting', 'getty', 'gfc', 'ghana', 'ghorba', 'ghost', 'ghostie', 'geneva', 'generic', 'gibson', 'generation', 'gate', 'gates', 'gateway', 'gather', 'gathering', 'gatherings', 'gave', 'gb', 'gbg', 'geddy', 'gem', 'gen', 'gender', 'gene', 'general', 'directed', 'gideon', 'gone', 'gma', 'gnod', 'goal', 'goals', 'goats', 'god', 'godfather', 'godmaker', 'godspeed', 'goes', 'going', 'gold', 'golden', 'golem', 'golf', 'gomorrah', 'gmjr', 'gls4562', 'gif', 'glove', 'gift', 'gilded', 'gilet', 'gin', 'gino', 'giphy', 'girlfriend', 'girls', 'git', 'gives', 'giving', 'glitch', 'global', 'globe', 'glory', 'half', 'hall', 'hallmark', 'hke', 'hnrlp004', 'hoax', 'hockey', 'hold', 'holders', 'holiday', 'hollow', 'holly', 'hollywood', 'holm', 'holy', 'homelander', 'homeless', 'homelessness', 'homer', 'hnr72', 'hiv', 'homes', 'hits', 'highlife', 'highlight', 'highlights', 'highly', 'hike', 'hilarious', 'hills', 'hint', 'hip', 'hired', 'hiring', 'hirsch', 'historic', 'history', 'hit', 'homeric', 'homestuck', 'halloween', 'hotmail', 'hotter', 'hour', 'house', 'houses', 'houston', 'howard', 'howl', 'hpe', 'hr', 'html5', 'hub', 'hubs', 'huge', 'hughes', 'hulk', 'hotspot', 'hotel', 'homework', 'hot', 'homicide', 'honey', 'honor', 'honored', 'honors', 'hoover', 'hop', 'hopelessly', 'hopkins', 'horizon', 'horse', 'hospital', 'hospitalized', 'host', 'hosting', 'highest', 'higher', 'high', 'hardside', 'harpoonist', 'haruhi', 'harvard', 'hat', 'hate', 'haunted', 'haven', 'having', 'hayon', 'hazards', 'hazing', 'hbj', 'hci', 'headrest', 'heads', 'hare', 'harder', 'hide', 'hardcover', 'halsall', 'halted', 'hamilton', 'hammer', 'hand', 'handbook', 'handcuffed', 'handle', 'hands', 'hang', 'happened', 'happens', 'haptic', 'hara', 'hard', 'heal', 'healing', 'health', 'healthineers', 'helix3', 'hell', 'help', 'helped', 'helping', 'helps', 'hemisphere', 'hemochromatosis', 'hemp', 'henley', 'herb', 'heritage', 'herkimer', 'hermano', 'hero', 'held', 'heiresses', 'height', 'hearts', 'healthworld', 'heard', 'hearing', 'heartbeat', 'heartbreaking', 'heartless', 'heat', 'hegemony', 'heated', 'heather', 'heatwave', 'heaven', 'heavy', 'heel', 'disability', 'development', 'diodes', 'babe', 'ayla', 'az', 'azuma', 'azure', 'b2k', 'b93', 'babai', 'baby', 'broadband', 'backer', 'bacon', 'bad', 'badgers', 'baghdad', 'bags', 'ball', 'axe', 'aws', 'away', 'awards', 'auto', 'autocad', 'autodesk', 'automates', 'automatic', 'automation', 'autonomy', 'autoplaying', 'av', 'available', 'avenue', 'aviators', 'avocado', 'award', 'awarded', 'ballast', 'baltimore', 'band', 'base', 'based', 'basement', 'bash', 'basic', 'basin', 'basketball', 'basses', 'bat', 'batch', 'battle', 'bay', 'bayesian', 'bb', 'beach', 'bean', 'baseball', 'basant', 'bandra', 'barthes', 'bandy', 'bang', 'bangers', 'bangkok', 'banh', 'bank', 'banking', 'bans', 'banter', 'bao', 'bar', 'barbeque', 'barcelona', 'bare', 'barnstorming', 'authenticity', 'authenticator', 'authentication', 'arezzo', 'armed', 'armor', 'armstrong', 'army', 'array', 'arrest', 'arrested', 'arrived', 'arrows', 'art', 'artemis', 'arteries', 'article', 'artist', 'artists', 'aries', 'aren', 'asap', 'areas', 'aprilbeacon', 'apron', 'araf', 'aransas', 'arb', 'arbeitest', 'arbitration', 'arc', 'arcgis', 'archaic', 'architect', 'archive', 'archives', 'arden', 'area', 'arusha', 'ascension', 'authentic', 'athletes', 'athletics', 'atlantic', 'atrophy', 'attack', 'attackers', 'attacks', 'attend', 'attorney', 'audio', 'audiotree', 'augustus', 'aus', 'austin', 'australia', 'australian', 'athletic', 'athens', 'ashes', 'athena', 'ashkenazi', 'ashlee', 'ashton', 'asia', 'ask', 'asked', 'assault', 'assess', 'assign', 'assist', 'assistance', 'assistant', 'astrology', 'ate', 'athemes', 'bear', 'bears', 'beast', 'booth', 'borrow', 'borrowed', 'bosch', 'bosse', 'bosses', 'boston', 'bot', 'bottle', 'boulders', 'bounty', 'boy', 'boys', 'bpf', 'br', 'bracers', 'borlaug', 'boom', 'braille', 'books', 'boatload', 'bob', 'bobby', 'bodies', 'body', 'bog', 'boiling', 'bone', 'bones', 'bonsai', 'bonus', 'boogie', 'book', 'booking', 'bookmyshow', 'brady', 'brain', 'bluetooth', 'breeding', 'brewed', 'brewer', 'brexit', 'brick', 'bride', 'bridge', 'brief', 'briefing', 'brigade', 'bright', 'brimaxian', 'bringing', 'brings', 'britain', 'british', 'brew', 'brecht', 'brainpower', 'breathe', 'brake', 'branch', 'brand', 'brandee', 'brandequity', 'brass', 'brave', 'braxton', 'brazil', 'breach', 'break', 'breakfast', 'breaks', 'breast', 'breastplate', 'blut', 'bluest', 'beat', 'bellicose', 'benchmarks', 'beneath', 'benefits', 'benji', 'bernard', 'bernardine', 'bernie', 'berry', 'berserker', 'best', 'beverast', 'bfi', 'bfsi', 'bhaktas', 'bi', 'belt', 'bellend', 'bibox', 'belle', 'beatles', 'beats', 'beautiful', 'beauty', 'beautypageants', 'beckoning', 'bed', 'bee', 'beer', 'beggar', 'behavior', 'beholder', 'beings', 'beliefs', 'believe', 'bible', 'big', 'blues', 'blam', 'blank', 'blaze', 'bleached', 'bliss', 'blob', 'bloc', 'blockchain', 'blogger', 'blogs', 'blood', 'bloom', 'bloopers', 'blue', 'bluegem', 'bluehost', 'blame', 'blake', 'biggest', 'blackhawks', 'bilinda', 'bind', 'biomedical', 'bionix', 'bioprinting', 'bipolar', 'bird', 'birds', 'birdsongs', 'birth', 'birthday', 'bischoff', 'bishop', 'bit', 'black', 'april', 'apps', 'approves', '650', '6in', '6s', '700wlw', '70413', '710', '740', '75', '760', '7pm', '80', '85', '8636th', '87', '88', '89', '6502', '640', '90', '64', '3rd', '3t', '3ws', '40', '4everfreebrony', '4ft6', '4lung', '4tet', '50', '500', '50th', '570', '5ft', '5th', '600', '8th', '92', '38', 'abdominal', 'abnormal', 'abortion', 'abrams', 'absolutely', 'abuse', 'abusing', 'academic', 'accelerate', 'access', 'accesspress', 'accident', 'accord', 'account', 'accounting', 'accounts', 'abdullah', 'abc', '93', 'abbreviation', '94', '95', '950', '955', '95mph', '96', '960', '97', '98', '99', 'a1111', 'aaaaaaaaaaaaaaaaaaaaaaaaaaaaaaaaa', 'aarp', 'abbey', 'abbeycraft', '3d', '365', 'aces', '107', '1075', '108', '11', '1100', '113', '1130', '11323', '117', '12', '1200', '127', '1300', '14', '15', '150', '1070', '1059', '16', '105', '02', '023', '048', '09', '10', '100', '1000', '100th', '101', '1011', '101one', '102', '103', '1035', '104', '150million', '16th', '360', '21', '22', '22nd', '23', '24', '25', '250th', '26', '27', '28', '28th', '30ct', '31', '32', '33', '36', '21st', '2020', '17', '2018', '18', '19', '1928', '1935', '1965', '1969', '1975', '1978', '1979', '1994', '1998', '1999', '20', '2008', '2015', 'accuser', 'achieve', 'approval', 'amphitheatre', 'analysis', 'analytics', 'analyze', 'analyzing', 'ancestors', 'ancient', 'anderson', 'android', 'andy', 'anesthesia', 'angel', 'angeles', 'angry', 'animal', 'animator', 'amy', 'amp', 'ann', 'amorphis', 'altered', 'alternative', 'altruism', 'amalthea', 'amanda', 'amarth', 'amateurs', 'amazing', 'amazon', 'ameel', 'amendment', 'america', 'american', 'americans', 'amon', 'anime', 'annex', 'alright', 'anxiety', 'apache', 'apart', 'ape', 'apexpages', 'api', 'apollo', 'apostate', 'app', 'appendix', 'apple', 'apples', 'application', 'applications', 'approach', 'approaching', 'aoife', 'antivirus', 'annie', 'antidepressants', 'anniversary', 'annorkoth', 'announce', 'announcement', 'announces', 'announcing', 'annual', 'annulment', 'anoice', 'answer', 'answers', 'antenna', 'anthem', 'anthology', 'anti', 'altarage', 'aloonaluna', 'acid', 'addon', 'addthis', 'adjust', 'adjustable', 'administration', 'admins', 'adobe', 'adolescent', 'adopt', 'adoption', 'adrift', 'advanced', 'advantage', 'advent', 'adventure', 'adventures', 'address', 'additional', 'advises', 'addition', 'acknowledge', 'acolytes', 'acoustic', 'acquires', 'act', 'action', 'active', 'activities', 'actors', 'actual', 'actually', 'ad', 'adam', 'add', 'addicted', 'advertising', 'aegis', 'allow', 'ajj', 'al', 'alameda', 'alan', 'alarming', 'albion', 'album', 'albums', 'alcohol', 'alerts', 'alex', 'alexandra', 'algae', 'algorithm', 'alleged', 'allo', 'akai', 'ajax', 'aesthetic', 'aj', 'aether', 'affect', 'afi', 'afl', 'africa', 'ag', 'agathe', 'age', 'agreement', 'agriculture', 'aid', 'air', 'airbackup', 'airbnb', 'airdrop', 'brixton', 'broken', 'dinosaurs', 'credit', 'creations', 'creative', 'creativity', 'creator', 'creature', 'creatures', 'credentials', 'creditmate', 'bronx', 'creepy', 'crew', 'cried', 'crime', 'crimson', 'crisis', 'crispr', 'creating', 'created', 'create', 'crazy', 'cousins', 'cover', 'coverage', 'covering', 'covid', 'cowboy', 'cr611', 'crack', 'cracks', 'cradle', 'craft', 'crash', 'crashed', 'crates', 'crawford', 'criticized', 'crocker', 'croma', 'cuomo', 'currency', 'current', 'curricula', 'curriculum', 'curry', 'curse', 'curses', 'curtain', 'curtin', 'curves', 'cusp', 'custom', 'customer', 'customers', 'customise', 'cure', 'cuoco', 'cross', 'cult', 'crossing', 'crowley', 'crown', 'crowned', 'crucial', 'crucible', 'crunchyroll', 'crust', 'crying', 'cryout', 'crypt', 'cryptography', 'cs', 'cuba', 'cubesat', 'court', 'course', 'coupons', 'connected', 'conor', 'conquers', 'cons', 'consciousness', 'console', 'conspiracy', 'conspiratorial', 'constitutional', 'construct', 'consumers', 'contact', 'content', 'contests', 'context', 'continue', 'connection', 'connectable', 'continuous', 'congresswoman', 'computing', 'concentration', 'concert', 'concerts', 'conclusion', 'concrete', 'conditioning', 'condolences', 'conduct', 'conducting', 'confederate', 'configure', 'confluence', 'congo', 'congressman', 'continues', 'contributor', 'county', 'cornmanthe3rd', 'corporate', 'correct', 'corrupt', 'corsair', 'cosmic', 'cosmos', 'cost', 'cotown', 'coultrain', 'council', 'councils', 'counting', 'countries', 'country', 'counts', 'coronavirus', 'cornhusker', 'control', 'corner', 'controlled', 'convention', 'conversations', 'conversion', 'conway', 'cool', 'cooling', 'coordinated', 'coordinator', 'cop', 'copter', 'corcoran', 'core', 'corn', 'corneas', 'customizable', 'customize', 'cuts', 'dermatologist', 'desert', 'deserve', 'design', 'designed', 'designs', 'despair', 'destefano', 'destination', 'detailed', 'detector', 'determine', 'dethrone', 'detox', 'deutsch', 'developer', 'desantis', 'der', 'kompendium', 'depression', 'delays', 'delete', 'delivered', 'delivers', 'dell', 'deluxe', 'demashita', 'demo', 'democracy', 'demonbrother', 'demonic', 'dennis', 'department', 'deposit', 'depraved', 'developers', 'deviantart', 'deformity', 'died', 'dies', 'diet', 'difference', 'differences', 'different', 'diffusion', 'digg', 'digicert', 'digit', 'digital', 'digitalocean', 'dignity', 'dilemma', 'dine', 'dining', 'diemon', 'die', 'device', 'didn', 'devices', 'devil', 'devils', 'devisa', 'devops', 'dew', 'diagram', 'dialogue', 'diamanda', 'diamond', 'diaries', 'dickinson', 'dickollective', 'dictionary', 'did', 'degradable', 'definitive', 'cw', 'dances', 'dank', 'darc', 'dark', 'darkness', 'darlin', 'darna', 'darpa', 'dashboard', 'data', 'databases', 'date', 'dates', 'dating', 'dave', 'david', 'daniel', 'dancer', 'davies', 'dance', 'cyber', 'cyberroam', 'cybersecurity', 'cycads', 'cycling', 'cyclone', 'cynda', 'dads', 'daily', 'dailymotion', 'dairsmuid', 'dallas', 'damage', 'damned', 'dan', 'davidson', 'dawn', 'definition', 'decadent', 'decay', 'deccan', 'dechambeau', 'decisions', 'decisive', 'deck', 'decks', 'declaring', 'decline', 'declining', 'decode', 'deduct', 'deductions', 'deep', 'deficiency', 'decades', 'debuts', 'dawson', 'debunking', 'day', 'days', 'daze', 'dc', 'dc101', 'dce', 'deadeye', 'deadline', 'deaf', 'deal', 'deals', 'death', 'debate', 'debit', 'debt', 'computer', 'complicated', 'compliance', 'career', 'carefree', 'caregivers', 'caretaker', 'caribbean', 'carl', 'carlson', 'carson', 'cart', 'cartoon', 'cartwheel', 'carve', 'cases', 'casey', 'cash', 'casper', 'careers', 'care', 'castings', 'cards', 'canard', 'candidates', 'canned', 'canton', 'cantonese', 'canus', 'canvas', 'capacitor', 'cape', 'captain', 'capture', 'car', 'card', 'cardiacs', 'cardioprotection', 'cast', 'castle', 'canada', 'celebrity', 'center', 'centre', 'centroid', 'century', 'ceo', 'cepheid', 'certain', 'certification', 'cfc', 'chadwick', 'chains', 'challenge', 'challengers', 'challenges', 'challenging', 'census', 'celebration', 'casual', 'celebrates', 'cat', 'catches', 'catchup', 'categorical', 'catena', 'cates', 'cathedral', 'catherine', 'catheter', 'causal', 'cause', 'causing', 'cbc', 'cd', 'cdn', 'canadian', 'campus', 'championships', 'bucky', 'buddha', 'budget', 'budweiser', 'buffoon', 'bug', 'build', 'builder', 'building', 'built', 'bulgarian', 'bulge', 'bull', 'bumps', 'bundle', 'burch', 'budamunk', 'buck', 'burn', 'bubble', 'brood', 'brook', 'brother', 'brotherhood', 'brothers', 'broussard', 'brown', 'browser', 'bruce', 'brunner', 'bruno', 'brunuhville', 'bryson', 'bsd', 'bt', 'burkette', 'burnout', 'campaigns', 'cabinet', 'cad', 'cafe', 'cake', 'calculus', 'calendar', 'calendly', 'california', 'calls', 'cam', 'cambridge', 'camel', 'camera', 'camo', 'camp', 'campaigner', 'cactus', 'ca', 'burrito', 'c930', 'burroughs', 'business', 'businesses', 'busy', 'butchers', 'butler', 'butterfield', 'buttigieg', 'button', 'buttons', 'buy', 'buzz', 'bw', 'bypass', 'bytecode', 'chamber', 'chances', 'complex', 'cnmi', 'coasters', 'coathangers', 'cobain', 'cobra', 'cocaine', 'cockroaches', 'coconut', 'code', 'codes', 'codex', 'coffin', 'coil', 'coin', 'cold', 'colicchio', 'coach', 'cmt', 'collection', 'club', 'clinic', 'clinton', 'clintons', 'clipper', 'clock', 'close', 'closed', 'closer', 'closures', 'clothes', 'cloud', 'cloudinary', 'clouds', 'clovis', 'clown', 'collected', 'collections', 'climate', 'commerce', 'commission', 'commitee', 'commitment', 'commons', 'commonwealth', 'communicating', 'community', 'companies', 'company', 'comparative', 'comparison', 'compete', 'competition', 'compiled', 'complete', 'commercial', 'commerc', 'collective', 'comments', 'college', 'collegiate', 'collider', 'colombia', 'color', 'colorlib', 'colours', 'columbia', 'com', 'combat', 'combining', 'comcast', 'come', 'comes', 'coming', 'climb', 'client', 'changed', 'cheer', 'chef', 'chefs', 'chemical', 'chemistry', 'cheremisinov', 'chernobyl', 'chess', 'chew', 'chicago', 'chicken', 'child', 'children', 'chimaera', 'chimera', 'chinese', 'cheese', 'checkpoint', 'cholera', 'checklist', 'changes', 'changing', 'chanhays', 'channel', 'chante', 'character', 'characters', 'charge', 'charged', 'chargers', 'charges', 'charlotte', 'chasez', 'cheap', 'check', 'chintan', 'choose', 'click', 'cisco', 'city', 'civic', 'civically', 'civil', 'clark', 'clarke', 'clasp', 'class', 'classic', 'clean', 'cleaner', 'clear', 'clearing', 'clearskies', 'cleveland', 'cities', 'circles', 'chooser', 'circle', 'chores', 'chose', 'chris', 'christian', 'christianity', 'christine', 'christmas', 'chronicles', 'chronos', 'chuck', 'chunklet', 'church', 'chávez', 'cio', 'cipher', 'kolkata', '負傷者51人に', 'kony', 'spotify', 'spokesperson', 'spooks', 'spore', 'sport', 'sports', 'spose', 'spot', 'spotlight', 'slaughterhouse', 'spots', 'spray', 'spreader', 'spreading', 'spring', 'springing', 'spry', 'spitfire', 'spirit', 'spire', 'spinal', 'speaker', 'speaks', 'spec', 'special', 'species', 'spectacular', 'spectre', 'spectrum', 'speech', 'spell', 'spencer', 'spg', 'spiders', 'spiegel', 'spin', 'sq', 'sq777', 'squalls', 'state', 'statement', 'states', 'station', 'statistical', 'statistics', 'status', 'stay', 'steam', 'steel', 'steele', 'stellar', 'step', 'steps', 'stereo', 'stereolab', 'stateimpact', 'startups', 'squeeze', 'startup', 'sr', 'st', 'stabbing', 'stack', 'stagenet', 'staley', 'standard', 'standing', 'stanford', 'star', 'starred', 'stars', 'start', 'starting', 'starts', 'spaven', 'sparker', 'spar', 'smashing', 'smith', 'smoothie', 'smothered', 'snap', 'snappy', 'sneak', 'snow', 'snyder', 'soak', 'social', 'society', 'society6', 'soda', 'soft', 'softether', 'smells', 'smarter', 'solo', 'smart', 'slay', 'slayer', 'slayers', 'sleigh', 'slide', 'slides', 'slideshow', 'sliding', 'slinging', 'slips', 'sloan', 'slow', 'slumscraper', 'small', 'smallest', 'solar', 'solstice', 'spanish', 'soundbetter', 'sources', 'south', 'southeast', 'southeastern', 'southercross', 'southern', 'southron', 'sovereign', 'sower', 'spa', 'space', 'spacecraft', 'spaces', 'spacey', 'spain', 'soundclout', 'soulsborne', 'solution', 'soul', 'solutions', 'solver', 'solving', 'soma', 'somnambulist', 'song', 'songs', 'songwriter', 'sons', 'soon', 'soreption', 'sorey', 'sorrow', 'sotunda', 'sought', 'steve', 'steven', 'stewart', 'surf', 'surgery', 'surprising', 'survey', 'surveys', 'survivalist', 'survivor', 'sushi', 'suspect', 'suspects', 'sustainable', 'suv', 'suzumiya', 'swallowed', 'swan', 'swat', 'surge', 'sure', 'sweating', 'surat', 'supe', 'super', 'supercapacitor', 'superchunk', 'superjam', 'supersonic', 'superstar', 'supervised', 'supplies', 'supply', 'support', 'supporting', 'supposed', 'supreme', 'surahs', 'sweat', 'sweet', 'sunscreen', 'sys', 'ta', 'tab', 'table', 'taboo', 'tackle', 'tackles', 'tactics', 'tahoe', 'tail', 'tailoring', 'taiwanese', 'takashi', 'taken', 'takeover', 'takes', 'sóley', 'syracuse', 'sweets', 'synthetic', 'swimming', 'swing', 'switch', 'switchfoot', 'switzerland', 'swords', 'swtor', 'sxsw', 'sydney', 'syllables', 'symbol', 'symbolism', 'sync', 'synthesis', 'synthesizers', 'sunset', 'sunday', 'stichiz', 'stores', 'storm', 'storms', 'story', 'storytelling', 'stotram', 'straight', 'strange', 'strangeness', 'strategic', 'strategy', 'stratford', 'stream', 'streaming', 'streamline', 'streamlining', 'stories', 'stored', 'strength', 'store', 'sticker', 'stickers', 'sticky', 'sting', 'stinger', 'stings', 'stock', 'stockade', 'stokes', 'stone', 'stoneaged', 'stonehenge', 'stones', 'stop', 'storage', 'street', 'strengthen', 'sun', 'styzmask', 'subaru', 'subsidiarity', 'substance', 'suburban', 'subway', 'success', 'successful', 'sued', 'suffrage', 'sugar', 'suggestion', 'suggestions', 'suhd', 'suitland', 'summer', 'suave', 'stylish', 'stretched', 'stuntin', 'strip', 'stripe', 'stroke', 'strong', 'stronger', 'struggle', 'ströer', 'sts', 'sts9', 'stuck', 'student', 'students', 'studio', 'study', 'stuffing', 'slave', 'slack', 'tale', 'san', 'sales', 'salesforce', 'salon', 'salt', 'sam', 'samsara', 'samsung', 'sanchaya', 'skype', 'sanctum', 'sanders', 'sandman', 'sanger', 'sara', 'sarah', 'satanists', 'sale', 'salary', 'saiyan', 'said', 'russia', 'rvg', 'rwd', 'ryan', 'rymer', 's10', 's7', 'sabotagerecords', 'sack', 'sacramento', 'saf', 'safe', 'safeguard', 'saga', 'sage', 'satellite', 'saturn', 'save', 'science', 'scientology', 'scope', 'score', 'scorpion', 'scott', 'scottsdale', 'scotty', 'scout', 'screen', 'screensaver', 'script', 'scripting', 'scripture', 'scrum', 'scythe', 'scientists', 'schools', 'say', 'schoolor', 'saying', 'says', 'sayzee', 'scale', 'scaled', 'scam', 'scaredgirl', 'scariest', 'scavenger', 'scene', 'scenes', 'schadt', 'schlubs', 'scholar', 'school', 'rush', 'rural', 'ruqyah', 'rise', 'risk', 'risks', 'river', 'ro', 'road', 'roads', 'roar', 'robach', 'robert', 'roberts', 'robin', 'robinson', 'robot', 'robotic', 'robots', 'risen', 'ripped', 'rockaways', 'rintarou', 'rican', 'ricardo', 'rice', 'richard', 'richmond', 'ricky', 'rico', 'ride', 'ridiculous', 'ridleys', 'rift', 'rig', 'rigging', 'rights', 'ring', 'rock', 'rockets', 'runs', 'rosie', 'roundtable', 'rouse', 'route', 'routes', 'rovics', 'row', 'royal', 'rpgs', 'rub', 'rubio', 'rude', 'rudeness', 'ruins', 'run', 'running', 'roulette', 'rosetta', 'rocks', 'roses', 'roland', 'role', 'roles', 'roller', 'rolling', 'rolls', 'roman', 'romance', 'romulan', 'ron', 'roof', 'rooftop', 'room', 'roosevelt', 'rose', 'sd', 'sdk', 'sdn', 'shortages', 'shorten', 'shortsighted', 'shot', 'showcase', 'shows', 'shreds', 'shrestha', 'shrivels', 'shultz', 'shutterstock', 'shuttleworth', 'sidebar', 'sidewall', 'siemens', 'sightings', 'shortcode', 'shortage', 'sign', 'shopee', 'shauf', 'shaver', 'shawn', 'sheets', 'shells', 'shelly', 'sheltered', 'shenandoah', 'shigihara', 'shine', 'shipwrecks', 'shirt', 'shirtless', 'shiva', 'shop', 'sights', 'signez', 'shares', 'sissies', 'site', 'situation', 'sixo', 'size', 'skanska', 'skeptic', 'skeptics', 'skill', 'skilled', 'skills', 'skins', 'skool', 'skull', 'sky', 'skyline', 'sisters', 'sirens', 'significance', 'siren', 'silk', 'silly', 'silverthorn', 'simon', 'simple', 'simplefixty', 'simpson', 'simpsons', 'simulating', 'singer', 'singing', 'single', 'sinha', 'sink', 'sir', 'sharing', 'share', 'sea', 'security', 'seedlings', 'seeing', 'seek', 'seekers', 'seeking', 'seen', 'sega', 'segal', 'seirom', 'seki', 'sekiro', 'selection', 'selfish', 'selftitled', 'selling', 'seed', 'sector', 'seminar', 'sectionin', 'seabird', 'seacrest', 'sean', 'search', 'searching', 'seas', 'seaside', 'season', 'seat', 'seattle', 'second', 'secret', 'secretary', 'secrets', 'section', 'semen', 'sending', 'shame', 'serving', 'set', 'setting', 'settlements', 'seven', 'severity', 'sexists', 'sexual', 'sfu', 'shade', 'shadow', 'shadowhunters', 'shadows', 'shagged', 'shahmen', 'shallows', 'session', 'services', 'senior', 'service', 'sennzai', 'sentence', 'seperate', 'sephora', 'september', 'sequence', 'sequencing', 'seraphim', 'sergey', 'series', 'sermon', 'serotonin', 'serve', 'server', 'servers', 'taking', 'talent', 'kootenay', 'wanda', 'wajan', 'wales', 'walk', 'walker', 'wall', 'walls', 'walmart', 'wanna', 'vaccine', 'want', 'wanted', 'wants', 'war', 'ward', 'ware', 'warehouse', 'waiting', 'waismann', 'wages', 'wage', 'vol', 'volkswagen', 'voltage', 'volume', 'voorhees', 'vote', 'voted', 'voters', 'voting', 'vpn', 'vr', 'vs', 'vulnerable', 'vw', 'ván', 'warhammer', 'warn', 'warp', 'webinar', 'website', 'websites', 'wedding', 'weddingwire', 'wednesday', 'week', 'weekend', 'weep', 'weighing', 'weight', 'welcome', 'wellspring', 'west', 'western', 'wework', 'webn', 'web', 'wars', 'weathers', 'warwickshire', 'washington', 'waste', 'watch', 'watching', 'wave', 'waveforms', 'wavering', 'waves', 'way', 'ways', 'wazz', 'wdas', 'wealth', 'wearing', 'voip', 'voice', 'vogues', 'veliyath', 'venue', 'venus', 'veracruz', 'verb', 'verdant', 'verifying', 'versatile', 'version', 'versioning', 'vertical', 'veterans', 'vetusta', 'vfx', 'vhs', 'vi', 'venture', 'veil', 'vibe', 'vehicle', 'vadim', 'valley', 'vampire', 'vandalism', 'vandals', 'vanity', 'vannelli', 'vantage', 'vapor', 'varg', 'variables', 'various', 'vault', 've', 'vegas', 'viaticum', 'vices', 'vnexpress', 'viral', 'virtual', 'virtues', 'virus', 'viruses', 'visa', 'visible', 'visio', 'visited', 'visual', 'visualizer', 'vital', 'vivaldi', 'vlack', 'vmware', 'vmworld', 'virginia', 'viraha', 'vick', 'vip', 'victims', 'vidal', 'video', 'videos', 'vietnamese', 'view', 'vigil', 'vikings', 'viklund', 'villa', 'village', 'vine', 'vinyl', 'violation', 'violence', 'weymouth', 'wfla', 'wgci', 'wytheville', 'xarlable', 'xfinity', 'xwo', 'yammer', 'ybor', 'years', 'yelp', 'yes', 'yesallmen', 'yields', 'yob', 'yoga', 'yonder', 'yoonus', 'york', 'wzlx', 'wye', 'younger', 'wwe', 'wp', 'wqik', 'wraps', 'wrath', 'wrentham', 'wrif', 'writers', 'writing', 'wrong', 'ws2016', 'wsus', 'wsyr', 'wtam', 'wu', 'wuhan', 'young', 'youth', 'wort', 'λόγος', 'здесь', 'आयएनएस', 'पल', 'रक', 'रड', 'रवर', 'लग', 'सम', 'たい', 'とか', 'ノノ', 'メキシコのパイプライン爆発', '人才', '人材', '和訳', 'вот', 'zorth', 'youtube', 'zoomo', 'youtuber', 'zachary', 'zado', 'zazzle', 'zdnet', 'zedd', 'zen', 'zero', 'zimbabwe', 'zip', 'zito', 'zolgensma', 'zone', 'zoo', 'zoom', 'wow002', 'worst', 'whale', 'williams', 'willows', 'wills', 'wilson', 'wind', 'windover', 'window', 'windows', 'winds', 'wine', 'wingnut', 'winka', 'winner', 'winners', 'winning', 'winter', 'willie', 'william', 'winx', 'wildlife', 'wharton', 'wheel', 'wheezer', 'whip', 'whipfather', 'white', 'whities', 'wi', 'wiaa', 'wicked', 'widow', 'width', 'wife', 'wiki', 'wild', 'winterized', 'wipes', 'worship', 'wonder', 'wood', 'woods', 'wor', 'word', 'wordpress', 'words', 'work', 'workers', 'workflows', 'working', 'works', 'workshop', 'world', 'worlds', 'worry', 'wong', 'won', 'wire', 'women', 'wireframes', 'wisconsin', 'wisdom', 'wisn', 'wistia', 'witches', 'withdrawal', 'wjrr', 'wkkj', 'wmms', 'woa', 'woai', 'wolf', 'wollcrafts', 'wombat', 'vacuum', 'va', 'talented', 'throwing', 'thoughts', 'thread', 'threat', 'threatens', 'threats', 'thresh', 'throw', 'throws', 'v103', 'thumbnail', 'thumbnailurl', 'thunder', 'thurs', 'ticket', 'tickets', 'tides', 'thou', 'thor', 'thirst', 'thinking', 'theo', 'theodore', 'theories', 'theory', 'thepinkink', 'therapeutic', 'therapeutics', 'therma', 'thermostat', 'thesaurus', 'theunlockingcompany', 'thief', 'thing', 'things', 'think', 'tied', 'tier', 'tiki', 'tokolosh', 'tom', 'tomb', 'tomorrow', 'tone', 'tongue', 'tonight', 'took', 'tool', 'tools', 'topple', 'tornado', 'toronto', 'torus', 'toss', 'touchscreen', 'told', 'token', 'tile', 'toilet', 'tiltas', 'tim', 'time', 'timeline', 'times', 'tiny', 'tip', 'tipping', 'titans', 'tnw', 'toasted', 'tobar', 'tobias', 'today', 'toddler', 'theming', 'themify', 'themes', 'taylor', 'tea', 'teachable', 'teacher', 'teaches', 'teaching', 'team', 'technician', 'techniques', 'techno', 'technologies', 'teddy', 'teen', 'teens', 'tees', 'teeth', 'tbtci', 'taxonomy', 'telecom', 'taxes', 'tales', 'talk', 'talks', 'tamar', 'tampa', 'tandava', 'tank', 'tape', 'tarragon', 'tartuffe', 'task', 'tastic', 'taught', 'tavern', 'tax', 'tejano', 'telephone', 'themefusion', 'testrail', 'tex', 'texas', 'text', 'texto', 'tg', 'thao', 'theater', 'theatre', 'theeternityrose', 'theft', 'thegame23', 'thelaniekalbach', 'thelaunchpad', 'theme', 'themed', 'tests', 'testing', 'television', 'tester', 'tell', 'tells', 'temperatures', 'templar', 'template', 'templates', 'temple', 'tempo', 'tennessee', 'teri', 'termination', 'terrorist', 'tes', 'test', 'testament', 'tour', 'touts', 'toy', 'undergraduate', 'underscores', 'understanding', 'underwear', 'undeserving', 'undoing', 'undressing', 'unending', 'unfair', 'unhide', 'unicef', 'unifying', 'union', 'unipolar', 'unit', 'united', 'underlying', 'undercover', 'univ', 'undead', 'tyshawn', 'uber', 'uclabound2022', 'ue', 'uf', 'ufo', 'uk', 'ultimate', 'ulver', 'un3h', 'unable', 'unbreakable', 'unclaimed', 'unconquerable', 'uncovers', 'unity', 'universe', 'types', 'usa', 'usagov', 'usb', 'usd', 'usda', 'use', 'used', 'useful', 'user', 'users', 'using', 'usual', 'usurper', 'uw', 'ux', 'v1', 'usaasc', 'urshan', 'university', 'urlo', 'unknown', 'unlocking', 'unmasking', 'unprecedented', 'unravel', 'unreleased', 'unseen', 'upcoming', 'update', 'updated', 'updates', 'upper', 'urban', 'urgency', 'urges', 'typhonian', 'type', 'toyota', 'training', 'transaction', 'transfer', 'transfixing', 'transform', 'translating', 'trap', 'trash', 'traumacore', 'travel', 'travels', 'treasure', 'treatment', 'tree', 'treehouse', 'trees', 'traits', 'trained', 'trends', 'train', 'toys', 'toyshop', 'tpb', 'track', 'tracker', 'tracking', 'tracks', 'tractor', 'trade', 'traditional', 'traduzione', 'traffic', 'trafficking', 'trailer', 'trailers', 'trending', 'trial', 'twitch', 'truth', 'try', 'ts', 'tsumiki', 'tuition', 'tunnels', 'turkey', 'turn', 'tutorials', 'tv', 'tweezers', 'twice', 'twilight', 'twin', 'twins', 'twisting', 'truthers', 'trusting', 'trials', 'trump', 'tribes', 'tribute', 'tricia', 'tricks', 'tried', 'tries', 'trio', 'trip', 'tripadvisor', 'trips', 'troll', 'tropic', 'truck', 'trucks', 'true', 'rhythms', 'rhythm', 'rhombulus', 'minions', 'mime', 'min', 'mind', 'minds', 'mini', 'miniawy', 'minimum', 'minister', 'mauritania', 'ministries', 'ministry', 'minnesota', 'minute', 'minutes', 'miracles', 'mirrors', 'milwaukee', 'milo', 'millss', 'millions', 'michigan', 'michul', 'mick', 'micromas', 'middle', 'midnite', 'midtown', 'midwest', 'mighty', 'migration', 'mikan', 'mike', 'miles', 'milky', 'million', 'misra', 'miss', 'mission', 'modernizing', 'modified', 'module', 'mojo', 'molam', 'mollari', 'molly', 'moments', 'monday', 'monero', 'money', 'monks', 'mono', 'monsters', 'month', 'months', 'modi', 'modern', 'mist', 'modeling', 'mistakes', 'mistook', 'mit', 'mitchell', 'mitzvah', 'mix', 'mixer', 'mixtape', 'mo', 'mob', 'mobile', 'mockery', 'mockups', 'mode', 'model', 'michelle', 'michelin', 'michael', 'medical', 'medicare', 'medicine', 'mediocracy', 'mediocre', 'medley', 'meet', 'meeting', 'meetings', 'meets', 'megan', 'megas', 'megatainment', 'megistotherium', 'melbourne', 'mellits', 'medically', 'mediation', 'melted', 'media', 'maximum', 'maya', 'maybe', 'mayo', 'mayors', 'mcafee', 'mccarthy', 'mcgill', 'mckenna', 'mckeown', 'mean', 'measuring', 'meat', 'med', 'medal', 'meltdown', 'melts', 'mg', 'mercy', 'merkurius', 'merritt', 'mesozoic', 'message', 'messenger', 'messengers', 'messing', 'met', 'metal', 'metalstep', 'methlab', 'method', 'methodology', 'metoo', 'mexico', 'merger', 'mercedes', 'member', 'menus', 'membership', 'memes', 'memoria', 'memorial', 'memories', 'memphis', 'men', 'menaphite', 'mendes', 'menopause', 'menstruation', 'mental', 'mentallo', 'mentions', 'menu', 'montreal', 'monument', 'moon', 'need', 'needle', 'needs', 'negative', 'negotiating', 'negro', 'nektar', 'nelson', 'nemo', 'neon', 'nereo', 'nervous', 'nesby', 'nest', 'netflix', 'netherlands', 'needed', 'necrourgica', 'networks', 'necrot', 'nasa', 'nashville', 'nat', 'natalie', 'nation', 'nationalbaconloversday', 'natural', 'nature', 'navigating', 'navrangpura', 'nazi', 'nba', 'nc', 'near', 'necessities', 'network', 'neue', 'narendra', 'niman', 'ninn', 'nipsey', 'nishtha', 'noaa', 'noble', 'noco', 'nolan', 'noncitizen', 'noobs', 'nord', 'nordic', 'normal', 'norman', 'normistan', 'north', 'ninja', 'nile', 'neural', 'nike', 'neurosurgery', 'neuter', 'neutron', 'nevada', 'newest', 'newly', 'news', 'newsom', 'newsradio', 'newton', 'nfl', 'nick', 'nieman', 'nigel', 'night', 'narrative', 'nanosheets', 'moonlight', 'moths', 'motorist', 'motto', 'mountain', 'moved', 'movement', 'movie', 'movies', 'moving', 'mozilla', 'mps', 'mr', 'ms', 'mtdna', 'muddies', 'mufasa', 'motion', 'mothership', 'multimillion', 'mothers', 'moore', 'moorekeith', 'mooterus', 'morgen', 'mormon', 'morningstar', 'moros', 'morris', 'morrison', 'morrone', 'morse', 'moth', 'mother', 'motherfucker', 'mothering', 'mug', 'multiple', 'nano3', 'mutual', 'muzzey', 'mysterious', 'mystery', 'myth', 'mythemeshop', 'mythology', 'myths', 'naga', 'nage', 'nah', 'naked', 'named', 'nameless', 'names', 'nanda', 'muynck', 'mutiny', 'multistar', 'musty', 'multitasking', 'multiverse', 'mumbai', 'mummies', 'munster', 'muppets', 'mural', 'murderer', 'murs', 'muscular', 'muse', 'music', 'musical', 'musicale', 'musician', 'max', 'matty', 'rhino', 'leukemia', 'letdown', 'lethe', 'letherette', 'lets', 'letters', 'letting', 'letty', 'level', 'mattress', 'leveraging', 'levers', 'leviathan', 'lewis', 'liberation', 'liberty', 'libra', 'let', 'lester', 'lessons', 'lesser', 'lecturer', 'lee', 'legacy', 'legal', 'legalized', 'legend', 'legendarygaming', 'legends', 'legislating', 'lego', 'legs', 'lenders', 'lenovo', 'lens', 'leon', 'library', 'license', 'lie', 'lips', 'listening', 'listings', 'lists', 'lite', 'literacy', 'little', 'liu', 'liv', 'live', 'living', 'lié', 'ljung', 'll', 'llama', 'lm', 'list', 'linux', 'lies', 'linus', 'life', 'lifespan', 'lifts', 'light', 'lighthouse', 'lightning', 'lights', 'lightyear', 'like', 'liked', 'limited', 'limits', 'line', 'lineup', 'linked', 'lecture', 'leaving', 'leaves', 'lace', 'lady', 'lae', 'lago', 'lagoi', 'lags', 'lake', 'lakuta', 'lame', 'lancers', 'land', 'landing', 'lane', 'langhorne', 'language', 'languages', 'lack', 'lac', 'large', 'labyrinth', 'kprc', 'kristen', 'ksab', 'kste', 'ktrh', 'ktu', 'kubernetes', 'kuffs', 'kunayala', 'kurt', 'kuun', 'kvaen', 'la', 'lab', 'laboratories', 'lares', '死者89人', 'leave', 'lay', 'layne', 'layout', 'lbs', 'leader', 'leaders', 'leadership', 'leading', 'leadpower', 'leads', 'leah', 'leakage', 'learn', 'leasing', 'leather', 'leatherchalice', 'laying', 'lawyers', 'las', 'lawyer', 'lasat', 'latency', 'later', 'latest', 'latham', 'laubrock', 'laughing', 'launch', 'launched', 'launches', 'launching', 'laur', 'laura', 'law', 'lawrence', 'loading', 'local', 'location', 'management', 'managers', 'mandate', 'mani', 'manipulation', 'manoj', 'manpasand', 'manual', 'map', 'mapping', 'marantz', 'marathon', 'marc', 'marcia', 'mardraum', 'maren', 'manager', 'manage', 'mariana', 'man', 'mainehealth', 'mainstream', 'maintain', 'major', 'make', 'maker', 'makers', 'makes', 'makeup', 'making', 'makoto', 'mal', 'malfurion', 'mali', 'maloya', 'maria', 'mario', 'main', 'massacre', 'masse', 'massive', 'master', 'mastercard', 'masterclass', 'match', 'matching', 'material', 'math', 'mathematical', 'mathematics', 'mathew', 'matter', 'matthew', 'matthews', 'massage', 'massachusetts', 'marjorie', 'mass', 'mark', 'market', 'marketers', 'marketing', 'marketplace', 'markets', 'marlboro', 'maron', 'marple', 'marriage', 'married', 'martin', 'marvel', 'mary', 'maryland', 'maine', 'mail', 'lock', 'loose', 'lords', 'los', 'lose', 'losers', 'losings', 'loss', 'lost', 'lostboi', 'lottery', 'loud', 'louder', 'lounge', 'loved', 'lovers', 'loves', 'lord', 'looping', 'lower', 'loop', 'lodis', 'log', 'logic', 'logo', 'lombardo', 'londo', 'london', 'lone', 'loneliest', 'longbow', 'longer', 'lonsberry', 'lookalike', 'looking', 'looks', 'low', 'lowest', 'maharashtra', 'mac', 'machetes', 'machines', 'mackeeper', 'macro', 'mad', 'madame', 'madness', 'madrid', 'mafia', 'magas', 'magazine', 'magento', 'maggot', 'magic', 'magzine', 'macaroni', 'mabel', 'lowkey', 'lyrica', 'lows', 'lp', 'lucas', 'lucia', 'lucifer', 'ludvig', 'lulu', 'lunch', 'lundy', 'lungs', 'lutea', 'luther', 'luxury', 'lynn', 'lyric', 'northeast', 'northern', 'northerner', 'proven', 'protect', 'protecting', 'protection', 'protocol', 'protomen', 'proton', 'prove', 'providers', 'northwest', 'provides', 'providing', 'ps', 'ps4', 'psalm', 'psychiatry', 'psychopaths', 'prosthetics', 'prostate', 'pros', 'proper', 'produce', 'product', 'prof', 'professional', 'profile', 'program', 'programming', 'programs', 'progression', 'promises', 'promising', 'promotion', 'proof', 'proofpoint', 'proofreading', 'pt', 'ptsd', 'pubcrawl', 'pétition', 'q104', 'qos', 'quadrant', 'quality', 'quantum', 'quartet', 'queen', 'queens', 'queer', 'question', 'questions', 'quick', 'quickbooks', 'quiet', 'quietly', 'q102', 'pyre', 'public', 'pvzgw2', 'publication', 'publicise', 'puebla', 'puerto', 'pummeling', 'punk', 'purdue', 'pure', 'puritan', 'purpose', 'pursuit', 'push', 'pushed', 'putting', 'puzzle', 'proclamation', 'processor', 'processing', 'pot', 'poverty', 'power', 'powered', 'powerful', 'powerhouse', 'powering', 'powerpuff', 'powers', 'powershell', 'powersolo', 'prairies', 'praise', 'prazer', 'pre', 'preconditioning', 'potential', 'poststratification', 'predicting', 'postgis', 'porches', 'porcupine', 'pores', 'porinju', 'port', 'portal', 'porter', 'portfolio', 'portland', 'posh', 'position', 'positive', 'possible', 'post', 'poster', 'predict', 'prediction', 'process', 'primordial', 'print', 'printed', 'prints', 'prioritizing', 'prismcorp', 'prison', 'privacy', 'private', 'privilege', 'prize', 'pro', 'probation', 'probed', 'problem', 'problems', 'principle', 'prime', 'preferences', 'primary', 'prem', 'premier', 'premiums', 'prepare', 'presents', 'presidential', 'presley', 'press', 'pressure', 'pretty', 'preview', 'prey', 'price', 'prices', 'pricing', 'quotations', 'quoted', 'quotes', 'repeal', 'replace', 'replacement', 'replacing', 'report', 'reports', 'repress', 'reproduce', 'republic', 'repurpose', 'request', 'require', 'research', 'researchers', 'residences', 'resident', 'repeat', 'repair', 'resilience', 'reopen', 'related', 'relationships', 'release', 'released', 'releases', 'religion', 'remarkable', 'remastered', 'remote', 'remove', 'removing', 'rename', 'render', 'rent', 'renters', 'residents', 'resolution', 'reject', 'reuters', 'revealing', 'reveals', 'revenge', 'revenue', 'reverbnation', 'reverse', 'reverting', 'review', 'reviews', 'revision', 'revisited', 'revolution', 'rewards', 'rhea', 'rhett', 'reveal', 'return', 'resort', 'rethink', 'resources', 'respect', 'response', 'responsibilities', 'responsible', 'responsive', 'rest', 'restaurant', 'restaurants', 'restoration', 'restore', 'result', 'results', 'resurgence', 'retail', 'relatable', 'reimbursement', 'radio', 'randy', 'rank', 'ranked', 'ranking', 'rapp', 'rare', 'raspberry', 'rasta', 'rat', 'rates', 'rave', 'raven', 'raw', 'rax', 'raymond', 'raz', 'ranger', 'randomized', 'reach', 'random', 'rae', 'raging', 'rahnuma', 'raid', 'raided', 'railway', 'rain', 'rainbow', 'rainbowhead', 'rainey', 'rainforests', 'raise', 'ramen', 'ran', 'randolph', 'rdecom', 'react', 'regulated', 'recycle', 'red', 'redeemer', 'reduce', 'reduces', 'redux', 'redwall', 'reflection', 'reflex', 'reform', 'reggie', 'regions', 'register', 'registers', 'regrets', 'regulate', 'recycled', 'recs', 'reader', 'recovery', 'readers', 'ready', 'real', 'realistic', 'really', 'reason', 'rebel', 'reboot', 'recap', 'receivables', 'receive', 'recipe', 'recognize', 'recognized', 'records', 'pora', 'pops', 'poppycock', 'outage', 'outbreak', 'outdoor', 'outer', 'outhere', 'outlook', 'outposts', 'output', 'outreach', 'outro', 'outshines', 'outside', 'outsiders', 'overhaul', 'overrated', 'overseas', 'outback', 'oupblog', 'overwhelmed', 'otherworld', 'orbiter', 'orchard', 'orchestra', 'orcompose', 'order', 'ordered', 'org', 'organized', 'origin', 'original', 'originals', 'orion', 'orleans', 'os', 'ost', 'overview', 'owl', 'orange', 'pals', 'panther', 'panthers', 'paperback', 'papiercuts', 'par', 'parade', 'paradise', 'parallel', 'parasynthesis', 'parent', 'parity', 'park', 'parking', 'parks', 'parkway', 'pantheon', 'palmer', 'owner', 'palm', 'oxford', 'ozonee', 'pa', 'pablo', 'pac', 'pachinko', 'package', 'page', 'pags', 'paige', 'paint', 'pair', 'pak', 'palace', 'palestine', 'orangetheory', 'oracle', 'parole', 'nypd', 'obama', 'oberst', 'observatory', 'obsolete', 'occupational', 'ocean', 'oct', 'october', 'odd', 'odds', 'ode', 'oecd', 'offer', 'offers', 'office', 'oak', 'nyc', 'offices', 'ny', 'northwestern', 'notation', 'notebook', 'notice', 'notoriously', 'nougat', 'nowlin', 'nsync', 'nuc', 'nuclear', 'number', 'nus', 'nutrition', 'nv', 'nvidia', 'officer', 'official', 'opus', 'ongc', 'online', 'onset', 'opening', 'opens', 'opentable', 'operating', 'operations', 'operators', 'opinion', 'opportunities', 'opportunity', 'opt', 'optimal', 'option', 'options', 'ongoing', 'oneups', 'officials', 'ones', 'offset', 'offshore', 'ogre', 'oh', 'oklahoma', 'older', 'olex', 'oliver', 'olly', 'olsen', 'olympiad', 'omar', 'omc', 'oneness', 'onenote', 'parliament', 'parramatta', 'popkiss', 'pivot', 'pki', 'place', 'places', 'plagiarism', 'plan', 'planet', 'planner', 'plans', 'plant', 'plants', 'platform', 'play', 'playbook', 'players', 'playing', 'pizza', 'pittsburgh', 'plays', 'pitch', 'photography', 'photos', 'photoshelter', 'photoshop', 'physical', 'pi', 'pickaway', 'pictures', 'pillars', 'pilots', 'pingdom', 'pink', 'pinterest', 'pioneering', 'pit', 'playlist', 'plaza', 'photographer', 'pokémon', 'polar', 'policy', 'political', 'politicians', 'politics', 'poll', 'pollution', 'polymers', 'ponce', 'pooches', 'pool', 'poor', 'poorest', 'pop', 'popguns', 'poland', 'pokestop', 'plc', 'poison', 'pleads', 'plex', 'plowman', 'plugin', 'plum', 'plus', 'po33', 'pocket', 'podbean', 'podcast', 'podcasts', 'poet', 'poetry', 'point', 'points', 'photographers', 'photo', 'partial', 'patrick', 'paul', 'pavilion', 'payer', 'payment', 'paypal', 'paysbass', 'pbs', 'pc', 'pd', 'pdf', 'peace', 'peak', 'peaking', 'pears', 'pediatrician', 'patterns', 'patriarch', 'pending', 'patreon', 'parties', 'partner', 'partners', 'party', 'pass', 'passes', 'passing', 'passive', 'password', 'patchwork', 'patent', 'path', 'pathologically', 'patients', 'patio', 'peek', 'penguin', 'phones', 'perspective', 'pete', 'peter', 'peth', 'petty', 'pg_trgm', 'phases', 'phd', 'pheasant', 'philadelphia', 'philly', 'philosopher', 'phips', 'pho', 'phoenix', 'phone', 'perth', 'personalization', 'peninsula', 'persona', 'penn', 'pennsylvania', 'penny', 'perception', 'perching', 'perfect', 'perform', 'performance', 'period', 'perk', 'permafrost', 'permanent', 'permutation', 'peroxide', 'perrine', 'largest']\n"
          ],
          "name": "stdout"
        }
      ]
    },
    {
      "cell_type": "markdown",
      "metadata": {
        "id": "gFXeuDzP7IO9",
        "colab_type": "text"
      },
      "source": [
        "Right Now we don't know which cluster belongs to which category.\n",
        "To find that we will have a look on the domains having words in each cluster"
      ]
    },
    {
      "cell_type": "code",
      "metadata": {
        "id": "IRDmKPj7c48W",
        "colab_type": "code",
        "colab": {}
      },
      "source": [
        "cluster0=pd.Series(clusters['0'])\n",
        "cluster1=pd.Series(clusters['1'])\n",
        "cluster2=pd.Series(clusters['2'])\n",
        "cluster3=pd.Series(clusters['3'])\n",
        "cluster4=pd.Series(clusters['4'])\n",
        "cluster5=pd.Series(clusters['5'])\n",
        "cluster6=pd.Series(clusters['6'])\n",
        "cluster7=pd.Series(clusters['7'])\n",
        "cluster8=pd.Series(clusters['8'])\n",
        "cluster9=pd.Series(clusters['9'])"
      ],
      "execution_count": 0,
      "outputs": []
    },
    {
      "cell_type": "markdown",
      "metadata": {
        "id": "LjV_dN27JgZK",
        "colab_type": "text"
      },
      "source": [
        "#Cluster0"
      ]
    },
    {
      "cell_type": "code",
      "metadata": {
        "id": "UKvXPEqRepDb",
        "colab_type": "code",
        "colab": {}
      },
      "source": [
        "indexes0=[]\n",
        "for i in cluster0:\n",
        "  cluster_df0=df[df['Content Title'].str.contains(i)]\n",
        "  if cluster_df0.shape[0]>300:\n",
        "    for j in cluster_df0.index:\n",
        "      indexes0.append(j)\n",
        "indexes0=set(indexes0)\n",
        "cluster0_df=df.loc[indexes0,:]"
      ],
      "execution_count": 0,
      "outputs": []
    },
    {
      "cell_type": "markdown",
      "metadata": {
        "id": "R5LD7FDs7fbe",
        "colab_type": "text"
      },
      "source": [
        "Now, We will label this Cluster"
      ]
    },
    {
      "cell_type": "code",
      "metadata": {
        "id": "s6hP65bm7i-z",
        "colab_type": "code",
        "colab": {
          "base_uri": "https://localhost:8080/",
          "height": 217
        },
        "outputId": "f7544199-1b54-49a2-8f89-96f550c6b86b"
      },
      "source": [
        "cluster0_df=shuffle(cluster0_df)\n",
        "cluster0_df['Content URL'].head(10)"
      ],
      "execution_count": 284,
      "outputs": [
        {
          "output_type": "execute_result",
          "data": {
            "text/plain": [
              "322     https://statmodeling.stat.columbia.edu/2020/03...\n",
              "1460    https://motherfalconmusic.bandcamp.com/album/y...\n",
              "61      https://www.theatlantic.com/education/archive/...\n",
              "255     https://auto.howstuffworks.com/under-the-hood/...\n",
              "155     https://www.iheart.com/content/2019-08-29-shir...\n",
              "1039    https://sprots.bigcartel.com/product/reach-for...\n",
              "1350    https://www.offset.com/artist/Daniel+Featherstone\n",
              "967     https://au.finance.yahoo.com/news/experts-pred...\n",
              "494     https://www.continuum.umn.edu/event/gotta-minu...\n",
              "75      https://www.buzzfeed.com/daves4/people-who-thi...\n",
              "Name: Content URL, dtype: object"
            ]
          },
          "metadata": {
            "tags": []
          },
          "execution_count": 284
        }
      ]
    },
    {
      "cell_type": "markdown",
      "metadata": {
        "id": "TrQ1rmkTJADO",
        "colab_type": "text"
      },
      "source": [
        "Cluster0 is **Finance**"
      ]
    },
    {
      "cell_type": "code",
      "metadata": {
        "id": "wB9UJ4EA7aky",
        "colab_type": "code",
        "colab": {
          "base_uri": "https://localhost:8080/",
          "height": 35
        },
        "outputId": "5c4489b6-256d-4da3-f2d2-ade0c49a4945"
      },
      "source": [
        "cluster0_df['Referring Domains'].corr(cluster0_df['Total Shares'])"
      ],
      "execution_count": 285,
      "outputs": [
        {
          "output_type": "execute_result",
          "data": {
            "text/plain": [
              "0.08057774279135071"
            ]
          },
          "metadata": {
            "tags": []
          },
          "execution_count": 285
        }
      ]
    },
    {
      "cell_type": "markdown",
      "metadata": {
        "id": "KCyq11XV7vVf",
        "colab_type": "text"
      },
      "source": [
        "Similarly we will get others"
      ]
    },
    {
      "cell_type": "markdown",
      "metadata": {
        "id": "40gZiuQQJkjM",
        "colab_type": "text"
      },
      "source": [
        "#Cluster1"
      ]
    },
    {
      "cell_type": "code",
      "metadata": {
        "id": "NmgTh5t2m3Am",
        "colab_type": "code",
        "colab": {}
      },
      "source": [
        "indexes1=[]\n",
        "for i in cluster1:\n",
        "  cluster_df1=df[df['Content Title'].str.contains(i)]\n",
        "  if cluster_df1.shape[0]>300:\n",
        "    for j in cluster_df1.index:\n",
        "      indexes1.append(j)\n",
        "indexes1=set(indexes1)\n",
        "cluster1_df=df.loc[indexes1,:]"
      ],
      "execution_count": 0,
      "outputs": []
    },
    {
      "cell_type": "markdown",
      "metadata": {
        "id": "Rq28JPz175Iq",
        "colab_type": "text"
      },
      "source": [
        "Now, we will label Cluster1"
      ]
    },
    {
      "cell_type": "code",
      "metadata": {
        "id": "WUlCe_w_79e4",
        "colab_type": "code",
        "colab": {
          "base_uri": "https://localhost:8080/",
          "height": 217
        },
        "outputId": "484c2403-05d4-4354-d3d6-fa08df16ab81"
      },
      "source": [
        "cluster1_df=shuffle(cluster1_df)\n",
        "cluster1_df['Content URL'].head(10)"
      ],
      "execution_count": 287,
      "outputs": [
        {
          "output_type": "execute_result",
          "data": {
            "text/plain": [
              "272     https://wpastra.com/how-to-choose-a-wordpress-...\n",
              "228     https://www.pinterest.com/themitzvahbowl/mitzv...\n",
              "322     https://statmodeling.stat.columbia.edu/2020/03...\n",
              "1160    https://lakuta.bandcamp.com/album/brothers-sis...\n",
              "47      https://www.smh.com.au/business/companies/anot...\n",
              "551     https://rock1053.iheart.com/featured/thor/cont...\n",
              "144     https://blogs.scientificamerican.com/plugged-i...\n",
              "914     https://www.bennettinstitute.cam.ac.uk/blog/co...\n",
              "1195    https://ythelastman.fandom.com/wiki/Y:_The_Las...\n",
              "136     https://theblog.adobe.com/personalization-tren...\n",
              "Name: Content URL, dtype: object"
            ]
          },
          "metadata": {
            "tags": []
          },
          "execution_count": 287
        }
      ]
    },
    {
      "cell_type": "markdown",
      "metadata": {
        "id": "xqTMsq6oJsoV",
        "colab_type": "text"
      },
      "source": [
        "Cluster1 is **Photography**"
      ]
    },
    {
      "cell_type": "code",
      "metadata": {
        "id": "Z-OgFk-a5JNj",
        "colab_type": "code",
        "colab": {
          "base_uri": "https://localhost:8080/",
          "height": 35
        },
        "outputId": "2aa1c34e-4095-4402-dc6c-4b5248d73273"
      },
      "source": [
        "print(\"Correlation is\", cluster1_df['Referring Domains'].corr(cluster1_df['Total Shares']))"
      ],
      "execution_count": 289,
      "outputs": [
        {
          "output_type": "stream",
          "text": [
            "Correlation is 0.080577742791351\n"
          ],
          "name": "stdout"
        }
      ]
    },
    {
      "cell_type": "markdown",
      "metadata": {
        "id": "H19uF6GxJ8or",
        "colab_type": "text"
      },
      "source": [
        "#Cluster2"
      ]
    },
    {
      "cell_type": "code",
      "metadata": {
        "id": "umszXjut9H6i",
        "colab_type": "code",
        "colab": {}
      },
      "source": [
        "indexes2=[]\n",
        "for i in cluster2:\n",
        "  cluster_df2=df[df['Content Title'].str.contains(i)]\n",
        "  if cluster_df2.shape[0]>300:\n",
        "    for j in cluster_df2.index:\n",
        "      indexes2.append(j)\n",
        "indexes2=set(indexes2)\n",
        "cluster2_df=df.loc[indexes2,:]"
      ],
      "execution_count": 0,
      "outputs": []
    },
    {
      "cell_type": "markdown",
      "metadata": {
        "id": "2vk5XIfqKcTO",
        "colab_type": "text"
      },
      "source": [
        "Now, we will label cluster2"
      ]
    },
    {
      "cell_type": "code",
      "metadata": {
        "id": "kXwd9_q_9P4K",
        "colab_type": "code",
        "colab": {
          "base_uri": "https://localhost:8080/",
          "height": 217
        },
        "outputId": "7716a9e2-de55-4225-cd12-691b1dc75b3c"
      },
      "source": [
        "cluster2_df=shuffle(cluster2_df)\n",
        "cluster2_df['Content URL'].head(10)"
      ],
      "execution_count": 293,
      "outputs": [
        {
          "output_type": "execute_result",
          "data": {
            "text/plain": [
              "624     https://power99.iheart.com/featured/the-rise-g...\n",
              "702     https://profiles.forbes.com/members/finance/pr...\n",
              "384     https://samsarabluesexperiment.bandcamp.com/al...\n",
              "462     http://webtv.un.org/watch/the-situation-in-mal...\n",
              "1455    https://theruinsofbeverast.bandcamp.com/album/...\n",
              "190     https://ed.ted.com/lessons/how-do-drugs-affect...\n",
              "1074    https://real1039.iheart.com/featured/vegas-gol...\n",
              "501     https://thecasualsexists.bandcamp.com/album/wh...\n",
              "944     https://genealogy.stackexchange.com/questions/...\n",
              "781     https://www.washington.edu/news/2020/01/15/the...\n",
              "Name: Content URL, dtype: object"
            ]
          },
          "metadata": {
            "tags": []
          },
          "execution_count": 293
        }
      ]
    },
    {
      "cell_type": "markdown",
      "metadata": {
        "id": "qY6GjkdnKgY-",
        "colab_type": "text"
      },
      "source": [
        "Cluster2 is **Medical**"
      ]
    },
    {
      "cell_type": "code",
      "metadata": {
        "id": "ETDulkS-KmSF",
        "colab_type": "code",
        "colab": {
          "base_uri": "https://localhost:8080/",
          "height": 35
        },
        "outputId": "d137b424-05c9-4358-ee2e-b547b5b26dac"
      },
      "source": [
        "print(\"Correlation is\", cluster2_df['Referring Domains'].corr(cluster2_df['Total Shares']))"
      ],
      "execution_count": 295,
      "outputs": [
        {
          "output_type": "stream",
          "text": [
            "Correlation is 0.08057774279135071\n"
          ],
          "name": "stdout"
        }
      ]
    },
    {
      "cell_type": "markdown",
      "metadata": {
        "colab_type": "text",
        "id": "VLVRG8YsK6yB"
      },
      "source": [
        "#Cluster3"
      ]
    },
    {
      "cell_type": "code",
      "metadata": {
        "colab_type": "code",
        "id": "-URGG7hPK6yD",
        "colab": {}
      },
      "source": [
        "indexes3=[]\n",
        "for i in cluster3:\n",
        "  cluster_df3=df[df['Content Title'].str.contains(i)]\n",
        "  if cluster_df3.shape[0]>300:\n",
        "    for j in cluster_df3.index:\n",
        "      indexes3.append(j)\n",
        "indexes3=set(indexes3)\n",
        "cluster3_df=df.loc[indexes3,:]"
      ],
      "execution_count": 0,
      "outputs": []
    },
    {
      "cell_type": "markdown",
      "metadata": {
        "colab_type": "text",
        "id": "6ZaJOsbIK6yI"
      },
      "source": [
        "Now, we will label cluster3"
      ]
    },
    {
      "cell_type": "code",
      "metadata": {
        "colab_type": "code",
        "outputId": "7a5a3a63-619b-4452-de19-c173228ecb1f",
        "id": "-2SfWMSbK6yJ",
        "colab": {
          "base_uri": "https://localhost:8080/",
          "height": 217
        }
      },
      "source": [
        "cluster3_df=shuffle(cluster3_df)\n",
        "cluster3_df['Content URL'].head(10)"
      ],
      "execution_count": 298,
      "outputs": [
        {
          "output_type": "execute_result",
          "data": {
            "text/plain": [
              "748     https://www.extension.harvard.edu/professional...\n",
              "1027    https://subgenius.fandom.com/wiki/Advanced_Sup...\n",
              "1026    https://photogallery.indiatimes.com/celebs/cel...\n",
              "502     https://www.rubio.senate.gov/public/index.cfm/...\n",
              "917     https://austin.eater.com/2019/11/11/20955417/b...\n",
              "133     https://www.wired.com/2017/03/no-iphones-arent...\n",
              "1102    https://939litefm.iheart.com/featured/mick-lee...\n",
              "750     https://montreal.eater.com/2019/5/7/18535327/m...\n",
              "543     https://www.journals.elsevier.com/the-journal-...\n",
              "147     https://www.timeout.com/london/film/the-surviv...\n",
              "Name: Content URL, dtype: object"
            ]
          },
          "metadata": {
            "tags": []
          },
          "execution_count": 298
        }
      ]
    },
    {
      "cell_type": "markdown",
      "metadata": {
        "colab_type": "text",
        "id": "f2X0GbvHK6yO"
      },
      "source": [
        "Cluster2 is **Design**"
      ]
    },
    {
      "cell_type": "code",
      "metadata": {
        "colab_type": "code",
        "outputId": "ad43e580-a343-4f53-e5b9-a8f9e31e3fb8",
        "id": "fxWMuz6nK6yO",
        "colab": {
          "base_uri": "https://localhost:8080/",
          "height": 35
        }
      },
      "source": [
        "print(\"Correlation is\", cluster3_df['Referring Domains'].corr(cluster3_df['Total Shares']))"
      ],
      "execution_count": 299,
      "outputs": [
        {
          "output_type": "stream",
          "text": [
            "Correlation is 0.08057774279135069\n"
          ],
          "name": "stdout"
        }
      ]
    },
    {
      "cell_type": "markdown",
      "metadata": {
        "colab_type": "text",
        "id": "OS_jwwOwLXV3"
      },
      "source": [
        "#Cluster4"
      ]
    },
    {
      "cell_type": "code",
      "metadata": {
        "colab_type": "code",
        "id": "YUcSJBH1LXV8",
        "colab": {}
      },
      "source": [
        "indexes4=[]\n",
        "for i in cluster4:\n",
        "  cluster_df4=df[df['Content Title'].str.contains(i)]\n",
        "  if cluster_df4.shape[0]>300:\n",
        "    for j in cluster_df4.index:\n",
        "      indexes4.append(j)\n",
        "indexes4=set(indexes4)\n",
        "cluster4_df=df.loc[indexes4,:]"
      ],
      "execution_count": 0,
      "outputs": []
    },
    {
      "cell_type": "markdown",
      "metadata": {
        "colab_type": "text",
        "id": "39qRiMMzLXWR"
      },
      "source": [
        "Now, we will label cluster4"
      ]
    },
    {
      "cell_type": "code",
      "metadata": {
        "colab_type": "code",
        "outputId": "91602057-d92d-4c93-ed82-28e3ab27346a",
        "id": "_Q3_Fy__LXWX",
        "colab": {
          "base_uri": "https://localhost:8080/",
          "height": 217
        }
      },
      "source": [
        "cluster4_df=shuffle(cluster4_df)\n",
        "cluster4_df['Content URL'].head(10)"
      ],
      "execution_count": 301,
      "outputs": [
        {
          "output_type": "execute_result",
          "data": {
            "text/plain": [
              "462     http://webtv.un.org/watch/the-situation-in-mal...\n",
              "798     https://sg.news.yahoo.com/saf-officer-charged-...\n",
              "68      https://www.today.com/video/fancy-wine-vs-wine...\n",
              "560     https://www.purdue.edu/newsroom/releases/2019/...\n",
              "847     https://tech.economictimes.indiatimes.com/news...\n",
              "1158          https://www.youtube.com/watch?v=5ykThEZLP8A\n",
              "156     https://www.blogs.va.gov/VAntage/50303/protect...\n",
              "97      https://www.cbsnews.com/video/when-a-falling-l...\n",
              "802     https://redwall.fandom.com/wiki/Redwall_AbbeyC...\n",
              "210     https://www.bluehost.com/blog/wordpress/how-to...\n",
              "Name: Content URL, dtype: object"
            ]
          },
          "metadata": {
            "tags": []
          },
          "execution_count": 301
        }
      ]
    },
    {
      "cell_type": "markdown",
      "metadata": {
        "colab_type": "text",
        "id": "RQyX9yVdLXWj"
      },
      "source": [
        "Cluster4 is **Business**"
      ]
    },
    {
      "cell_type": "code",
      "metadata": {
        "colab_type": "code",
        "outputId": "48eb9c43-9ece-4a47-9280-deb04a00d2e1",
        "id": "SmQV9KHVLXWm",
        "colab": {
          "base_uri": "https://localhost:8080/",
          "height": 35
        }
      },
      "source": [
        "print(\"Correlation is\", cluster4_df['Referring Domains'].corr(cluster4_df['Total Shares']))"
      ],
      "execution_count": 303,
      "outputs": [
        {
          "output_type": "stream",
          "text": [
            "Correlation is 0.0805777427913508\n"
          ],
          "name": "stdout"
        }
      ]
    },
    {
      "cell_type": "markdown",
      "metadata": {
        "colab_type": "text",
        "id": "V6AvHvobLz-t"
      },
      "source": [
        "#Cluster5"
      ]
    },
    {
      "cell_type": "code",
      "metadata": {
        "colab_type": "code",
        "id": "Y41fwPGDLz-y",
        "colab": {}
      },
      "source": [
        "indexes5=[]\n",
        "for i in cluster5:\n",
        "  cluster_df5=df[df['Content Title'].str.contains(i)]\n",
        "  if cluster_df5.shape[0]>300:\n",
        "    for j in cluster_df5.index:\n",
        "      indexes5.append(j)\n",
        "indexes5=set(indexes5)\n",
        "cluster5_df=df.loc[indexes5,:]"
      ],
      "execution_count": 0,
      "outputs": []
    },
    {
      "cell_type": "markdown",
      "metadata": {
        "colab_type": "text",
        "id": "r-zMa4tQLz_D"
      },
      "source": [
        "Now, we will label cluster5"
      ]
    },
    {
      "cell_type": "code",
      "metadata": {
        "colab_type": "code",
        "outputId": "16664ebe-6f0b-477b-a177-daa31a7aae8b",
        "id": "p9Tr7uQELz_F",
        "colab": {
          "base_uri": "https://localhost:8080/",
          "height": 217
        }
      },
      "source": [
        "cluster5_df=shuffle(cluster5_df)\n",
        "cluster5_df['Content URL'].head(10)"
      ],
      "execution_count": 306,
      "outputs": [
        {
          "output_type": "execute_result",
          "data": {
            "text/plain": [
              "3       https://www.forbes.com/sites/jasonbloomberg/20...\n",
              "374     https://shadowhunters.fandom.com/wiki/The_Shad...\n",
              "1063    https://saidthewhale.bandcamp.com/album/little...\n",
              "579        https://theatredance.utexas.edu/event/crucible\n",
              "214     https://kprcradio.iheart.com/featured/the-purs...\n",
              "1299    http://leagueoflegends.wikia.com/wiki/The_Jour...\n",
              "547     https://money.stackexchange.com/questions/8556...\n",
              "402     https://scripps.ucsd.edu/news/research-highlig...\n",
              "202     https://download.cnet.com/Secret-Guide-2-How-t...\n",
              "1373    https://german.stackexchange.com/questions/396...\n",
              "Name: Content URL, dtype: object"
            ]
          },
          "metadata": {
            "tags": []
          },
          "execution_count": 306
        }
      ]
    },
    {
      "cell_type": "markdown",
      "metadata": {
        "colab_type": "text",
        "id": "nZR0nGuSLz_M"
      },
      "source": [
        "Cluster5 is **Gaming**"
      ]
    },
    {
      "cell_type": "code",
      "metadata": {
        "colab_type": "code",
        "outputId": "1ea5e7dd-3961-44df-8d1a-03bc00601b0e",
        "id": "eYZi7_g8Lz_N",
        "colab": {
          "base_uri": "https://localhost:8080/",
          "height": 35
        }
      },
      "source": [
        "print(\"Correlation is\", cluster5_df['Referring Domains'].corr(cluster5_df['Total Shares']))"
      ],
      "execution_count": 308,
      "outputs": [
        {
          "output_type": "stream",
          "text": [
            "Correlation is 0.08057774279135094\n"
          ],
          "name": "stdout"
        }
      ]
    },
    {
      "cell_type": "markdown",
      "metadata": {
        "colab_type": "text",
        "id": "6JIOnmxeMlOP"
      },
      "source": [
        "#Cluster6"
      ]
    },
    {
      "cell_type": "code",
      "metadata": {
        "colab_type": "code",
        "id": "NYlqLpNCMlOR",
        "colab": {}
      },
      "source": [
        "indexes6=[]\n",
        "for i in cluster6:\n",
        "  cluster_df6=df[df['Content Title'].str.contains(i)]\n",
        "  if cluster_df6.shape[0]>300:\n",
        "    for j in cluster_df6.index:\n",
        "      indexes6.append(j)\n",
        "indexes6=set(indexes6)\n",
        "cluster6_df=df.loc[indexes6,:]"
      ],
      "execution_count": 0,
      "outputs": []
    },
    {
      "cell_type": "markdown",
      "metadata": {
        "colab_type": "text",
        "id": "YCGVW8ObMlOX"
      },
      "source": [
        "Now, we will label cluster6"
      ]
    },
    {
      "cell_type": "code",
      "metadata": {
        "colab_type": "code",
        "outputId": "0c3f6c66-aa4e-4e66-a1c1-033e534bef6c",
        "id": "T0dfOKOEMlOY",
        "colab": {
          "base_uri": "https://localhost:8080/",
          "height": 217
        }
      },
      "source": [
        "cluster6_df=shuffle(cluster6_df)\n",
        "cluster6_df['Content URL'].head(10)"
      ],
      "execution_count": 310,
      "outputs": [
        {
          "output_type": "execute_result",
          "data": {
            "text/plain": [
              "1368    https://cardfight.fandom.com/wiki/Bernard_the_...\n",
              "1092    https://kiisfm.iheart.com/featured/letty-b/con...\n",
              "1218    https://gis.stackexchange.com/questions/108973...\n",
              "54      https://blogs.oracle.com/cloud-infrastructure/...\n",
              "1451    https://www.podbean.com/podcast-detail/m8ji3-5...\n",
              "1033    http://blog.dvd.netflix.com/new-dvd-releases/t...\n",
              "852     https://theportersgate.bandcamp.com/track/have...\n",
              "236     https://in.mashable.com/science/7515/internati...\n",
              "507     https://lyrics.fandom.com/wiki/Michael_Jackson...\n",
              "373     https://921thebeat.iheart.com/contests/enter-t...\n",
              "Name: Content URL, dtype: object"
            ]
          },
          "metadata": {
            "tags": []
          },
          "execution_count": 310
        }
      ]
    },
    {
      "cell_type": "markdown",
      "metadata": {
        "colab_type": "text",
        "id": "z6JDEcnfMlOe"
      },
      "source": [
        "Cluster6 is **Blogging**"
      ]
    },
    {
      "cell_type": "code",
      "metadata": {
        "colab_type": "code",
        "outputId": "2f15aecc-0bf6-4188-ca69-5664349cf10c",
        "id": "Vg-zLyBaMlOf",
        "colab": {
          "base_uri": "https://localhost:8080/",
          "height": 35
        }
      },
      "source": [
        "print(\"Correlation is\", cluster6_df['Referring Domains'].corr(cluster6_df['Total Shares']))"
      ],
      "execution_count": 311,
      "outputs": [
        {
          "output_type": "stream",
          "text": [
            "Correlation is 0.08057774279135084\n"
          ],
          "name": "stdout"
        }
      ]
    },
    {
      "cell_type": "markdown",
      "metadata": {
        "colab_type": "text",
        "id": "YMQ44l_FM2Ab"
      },
      "source": [
        "#Cluster7"
      ]
    },
    {
      "cell_type": "code",
      "metadata": {
        "colab_type": "code",
        "id": "N4vDNI5FM2Af",
        "colab": {}
      },
      "source": [
        "indexes7=[]\n",
        "for i in cluster7:\n",
        "  cluster_df7=df[df['Content Title'].str.contains(i)]\n",
        "  if cluster_df7.shape[0]>300:\n",
        "    for j in cluster_df7.index:\n",
        "      indexes7.append(j)\n",
        "indexes7=set(indexes7)\n",
        "cluster7_df=df.loc[indexes7,:]"
      ],
      "execution_count": 0,
      "outputs": []
    },
    {
      "cell_type": "markdown",
      "metadata": {
        "colab_type": "text",
        "id": "JnU1SpYYM2Ax"
      },
      "source": [
        "Now, we will label cluster7"
      ]
    },
    {
      "cell_type": "code",
      "metadata": {
        "colab_type": "code",
        "outputId": "1abd9384-bea6-43da-ba5b-a8ec0ceff06c",
        "id": "ctpXAyjfM2A0",
        "colab": {
          "base_uri": "https://localhost:8080/",
          "height": 217
        }
      },
      "source": [
        "cluster7_df=shuffle(cluster7_df)\n",
        "cluster7_df['Content URL'].head(10)"
      ],
      "execution_count": 313,
      "outputs": [
        {
          "output_type": "execute_result",
          "data": {
            "text/plain": [
              "1019    https://thecompound.bandcamp.com/album/break-t...\n",
              "852     https://theportersgate.bandcamp.com/track/have...\n",
              "1274    https://michellezauner.bandcamp.com/track/the-...\n",
              "797     https://video.vice.com/en_us/video/winners-and...\n",
              "771     https://www.pca.state.mn.us/living-green/recyc...\n",
              "690     https://vegas.eater.com/2017/3/6/14824690/firs...\n",
              "173     https://io9.gizmodo.com/what-is-the-worst-kind...\n",
              "556      https://sitequeeste.bandcamp.com/album/the-flash\n",
              "265     https://nola.eater.com/2018/12/28/18159522/new...\n",
              "1046    https://ulver.bandcamp.com/album/themes-from-w...\n",
              "Name: Content URL, dtype: object"
            ]
          },
          "metadata": {
            "tags": []
          },
          "execution_count": 313
        }
      ]
    },
    {
      "cell_type": "markdown",
      "metadata": {
        "colab_type": "text",
        "id": "lgBpL-YFM2BB"
      },
      "source": [
        "Cluster7 is **Food**"
      ]
    },
    {
      "cell_type": "code",
      "metadata": {
        "colab_type": "code",
        "outputId": "7cee7978-ca37-4168-ca9d-9c7f0f1e7c4d",
        "id": "SO_sjo6rM2BC",
        "colab": {
          "base_uri": "https://localhost:8080/",
          "height": 35
        }
      },
      "source": [
        "print(\"Correlation is\", cluster7_df['Referring Domains'].corr(cluster7_df['Total Shares']))"
      ],
      "execution_count": 314,
      "outputs": [
        {
          "output_type": "stream",
          "text": [
            "Correlation is 0.08057774279135067\n"
          ],
          "name": "stdout"
        }
      ]
    },
    {
      "cell_type": "markdown",
      "metadata": {
        "colab_type": "text",
        "id": "6bici0wYNE09"
      },
      "source": [
        "#Cluster8"
      ]
    },
    {
      "cell_type": "code",
      "metadata": {
        "colab_type": "code",
        "id": "kPGvHxRBNE0-",
        "colab": {}
      },
      "source": [
        "indexes8=[]\n",
        "for i in cluster8:\n",
        "  cluster_df8=df[df['Content Title'].str.contains(i)]\n",
        "  if cluster_df8.shape[0]>300:\n",
        "    for j in cluster_df8.index:\n",
        "      indexes8.append(j)\n",
        "indexes8=set(indexes8)\n",
        "cluster8_df=df.loc[indexes8,:]"
      ],
      "execution_count": 0,
      "outputs": []
    },
    {
      "cell_type": "markdown",
      "metadata": {
        "colab_type": "text",
        "id": "hAoq4gViNE1H"
      },
      "source": [
        "Now, we will label cluster8"
      ]
    },
    {
      "cell_type": "code",
      "metadata": {
        "colab_type": "code",
        "outputId": "3c17649b-fc3d-457e-cf98-de6f6600a62d",
        "id": "tThdlZCkNE1I",
        "colab": {
          "base_uri": "https://localhost:8080/",
          "height": 217
        }
      },
      "source": [
        "cluster8_df=shuffle(cluster8_df)\n",
        "cluster8_df['Content URL'].head(10)"
      ],
      "execution_count": 318,
      "outputs": [
        {
          "output_type": "execute_result",
          "data": {
            "text/plain": [
              "556      https://sitequeeste.bandcamp.com/album/the-flash\n",
              "750     https://montreal.eater.com/2019/5/7/18535327/m...\n",
              "1089    https://www.tcs.cam.ac.uk/the-seven-most-ridic...\n",
              "676     https://sports.stackexchange.com/questions/387...\n",
              "1436    https://meta.stackexchange.com/questions/25737...\n",
              "594     https://dc.eater.com/2020/2/3/21120160/richmon...\n",
              "1298    https://the-republic-of-kekistan.fandom.com/wi...\n",
              "209     https://press.princeton.edu/books/paperback/97...\n",
              "1134    https://relapsealumni.bandcamp.com/album/the-k...\n",
              "423     https://folklife.si.edu/talkstory/the-power-of...\n",
              "Name: Content URL, dtype: object"
            ]
          },
          "metadata": {
            "tags": []
          },
          "execution_count": 318
        }
      ]
    },
    {
      "cell_type": "markdown",
      "metadata": {
        "colab_type": "text",
        "id": "O6tRDypINE1P"
      },
      "source": [
        "Cluster8 is **Education**"
      ]
    },
    {
      "cell_type": "code",
      "metadata": {
        "colab_type": "code",
        "outputId": "f948be95-6f9e-48c2-a1a7-1e09f3e8232b",
        "id": "yVdTiFlRNE1R",
        "colab": {
          "base_uri": "https://localhost:8080/",
          "height": 35
        }
      },
      "source": [
        "print(\"Correlation is\", cluster8_df['Referring Domains'].corr(cluster8_df['Total Shares']))"
      ],
      "execution_count": 319,
      "outputs": [
        {
          "output_type": "stream",
          "text": [
            "Correlation is 0.08057774279135073\n"
          ],
          "name": "stdout"
        }
      ]
    },
    {
      "cell_type": "markdown",
      "metadata": {
        "colab_type": "text",
        "id": "io3oi12wNoqA"
      },
      "source": [
        "#Cluster9"
      ]
    },
    {
      "cell_type": "code",
      "metadata": {
        "colab_type": "code",
        "id": "lQ24l2hFNoqN",
        "colab": {}
      },
      "source": [
        "indexes9=[]\n",
        "for i in cluster9:\n",
        "  cluster_df9=df[df['Content Title'].str.contains(i)]\n",
        "  if cluster_df9.shape[0]>300:\n",
        "    for j in cluster_df9.index:\n",
        "      indexes9.append(j)\n",
        "indexes9=set(indexes9)\n",
        "cluster9_df=df.loc[indexes9,:]"
      ],
      "execution_count": 0,
      "outputs": []
    },
    {
      "cell_type": "markdown",
      "metadata": {
        "colab_type": "text",
        "id": "evjs3ziPNoqa"
      },
      "source": [
        "Now, we will label cluster9"
      ]
    },
    {
      "cell_type": "code",
      "metadata": {
        "colab_type": "code",
        "outputId": "d208a061-c41b-474e-d23d-76179caa2f12",
        "id": "NhAhrUXDNoqb",
        "colab": {
          "base_uri": "https://localhost:8080/",
          "height": 217
        }
      },
      "source": [
        "\n",
        "cluster9_df['Content URL'].head(10)"
      ],
      "execution_count": 322,
      "outputs": [
        {
          "output_type": "execute_result",
          "data": {
            "text/plain": [
              "764     https://rringsings.bandcamp.com/album/ignite-t...\n",
              "1132    https://starwarsrebels.fandom.com/wiki/Legends...\n",
              "520     https://www.enisa.europa.eu/news/enisa-news/en...\n",
              "1447    https://themysteryofthebulgarianvoices.bandcam...\n",
              "628     https://uk.news.yahoo.com/olly-murs-overwhelme...\n",
              "607     https://blog.bigcartel.com/playlist-looking-fo...\n",
              "819     https://emacs.stackexchange.com/questions/5032...\n",
              "662     https://news.usc.edu/11217/Occupational-Therap...\n",
              "111     https://www.ionos.co.uk/digitalguide/online-ma...\n",
              "761     https://marvel-movies.fandom.com/wiki/The_Incr...\n",
              "Name: Content URL, dtype: object"
            ]
          },
          "metadata": {
            "tags": []
          },
          "execution_count": 322
        }
      ]
    },
    {
      "cell_type": "markdown",
      "metadata": {
        "id": "Psvzi7QuN-mU",
        "colab_type": "text"
      },
      "source": [
        "Cluster9 is **Movies**"
      ]
    },
    {
      "cell_type": "code",
      "metadata": {
        "id": "R0g1dinhOE08",
        "colab_type": "code",
        "colab": {
          "base_uri": "https://localhost:8080/",
          "height": 35
        },
        "outputId": "28a12633-4e4e-40ab-bd20-5256515401f2"
      },
      "source": [
        "print(\"Correlation is\", cluster9_df['Referring Domains'].corr(cluster9_df['Total Shares']))"
      ],
      "execution_count": 323,
      "outputs": [
        {
          "output_type": "stream",
          "text": [
            "Correlation is 0.08057774279135074\n"
          ],
          "name": "stdout"
        }
      ]
    },
    {
      "cell_type": "markdown",
      "metadata": {
        "id": "GEpZ_ld_Oghi",
        "colab_type": "text"
      },
      "source": [
        "#####Now we see that Reffrering Domains of each categories is almost similarly corelated to the Total social media shares and also very slightly corelated."
      ]
    },
    {
      "cell_type": "markdown",
      "metadata": {
        "id": "qaqsPnNjOvzy",
        "colab_type": "text"
      },
      "source": [
        "#Final Conclusion\n",
        "\n",
        "The Refering domain is Slightly Positively corelated to the Total Social Media Shares.\n",
        "\n",
        "#Thank You"
      ]
    }
  ]
}